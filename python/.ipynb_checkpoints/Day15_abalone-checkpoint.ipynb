{
 "cells": [
  {
   "cell_type": "markdown",
   "id": "998f4a24",
   "metadata": {},
   "source": [
    "#### UCI 전복\n",
    "\n",
    "https://archive.ics.uci.edu/ml/datasets/Abalone\n",
    "data url: https://archive.ics.uci.edu/ml/machine-learning-databases/abalone/abalone.data\n",
    "\n",
    "1. [함수] requests 패키지를 이용해 데이터 가져와서 ndarray로 변환.\n",
    "\n",
    "2. [함수] 성별이 'M'인 데이터를 필터, Length와 Diameter 간 상관도를 반환\n",
    "\n",
    "3. __name__ 값이 __main__ 이면 1,2함수를 실행, 2번 함수의 반환값을 프린트"
   ]
  }
 ],
 "metadata": {
  "kernelspec": {
   "display_name": "Python 3 (ipykernel)",
   "language": "python",
   "name": "python3"
  },
  "language_info": {
   "codemirror_mode": {
    "name": "ipython",
    "version": 3
   },
   "file_extension": ".py",
   "mimetype": "text/x-python",
   "name": "python",
   "nbconvert_exporter": "python",
   "pygments_lexer": "ipython3",
   "version": "3.10.9"
  }
 },
 "nbformat": 4,
 "nbformat_minor": 5
}
