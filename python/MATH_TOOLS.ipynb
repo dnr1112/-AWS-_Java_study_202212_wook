{
 "cells": [
  {
   "cell_type": "code",
   "execution_count": 1,
   "id": "2a0787d4",
   "metadata": {},
   "outputs": [],
   "source": [
    "import math\n",
    "\n",
    "def mean(num_list):\n",
    "    for i in num_list:\n",
    "        avr = sum(num_list) / len(num_list)\n",
    "    return avr\n",
    "\n",
    "def median(num_list):\n",
    "    n = len(num_list)\n",
    "    if n % 2 == 0:\n",
    "        return (num_list[n//2 - 1] + num_list[n//2]) / 2\n",
    "    else:\n",
    "        return num_list[n//2]\n",
    "        \n",
    "def dev(num_list):    # 편차\n",
    "    m = mean(num_list)\n",
    "    return [x - m for x in num_list]\n",
    "\n",
    "def ver(num_list):    # 분산\n",
    "    n = len(num_list)\n",
    "    d = dev(num_list)\n",
    "    return sum([x * x for x in d]) / (n - 1)\n",
    "    \n",
    "def stdev(num_list):  # 표준편차\n",
    "    return math.sqrt(ver(num_list))\n",
    "\n",
    "def covar(list_1, list_2):  # 공분산\n",
    "    n = len(list_1)\n",
    "    list_1_dev = dev(list_1)\n",
    "    list_2_dev = dev(list_2)\n",
    "    return sum(x * y for x, y in zip(list_1_dev, list_2_dev)) / (n - 1)\n",
    "\n",
    "def corel(list_1, list_2):  # 상관도 (-1 ~ 1)\n",
    "    return covar(list_1, list_2) / (stdev(list_1) * stdev(list_2))"
   ]
  },
  {
   "cell_type": "code",
   "execution_count": null,
   "id": "7319bb0c",
   "metadata": {},
   "outputs": [],
   "source": []
  }
 ],
 "metadata": {
  "kernelspec": {
   "display_name": "Python 3 (ipykernel)",
   "language": "python",
   "name": "python3"
  },
  "language_info": {
   "codemirror_mode": {
    "name": "ipython",
    "version": 3
   },
   "file_extension": ".py",
   "mimetype": "text/x-python",
   "name": "python",
   "nbconvert_exporter": "python",
   "pygments_lexer": "ipython3",
   "version": "3.10.9"
  }
 },
 "nbformat": 4,
 "nbformat_minor": 5
}
