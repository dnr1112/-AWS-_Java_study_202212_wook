{
 "cells": [
  {
   "cell_type": "code",
   "execution_count": 3,
   "id": "ed2f7a30",
   "metadata": {},
   "outputs": [],
   "source": [
    "import numpy as np\n",
    "import math\n",
    "\n",
    "def my_split(s):\n",
    "    block_start = False\n",
    "    start_index = 0\n",
    "    ret_list=[]\n",
    "    for i, c in enumerate(s):\n",
    "        if block_start==False:\n",
    "            if c==',':\n",
    "                ret_list.append(s[start_index:i])\n",
    "                start_index=i+1\n",
    "            elif c=='\"':\n",
    "                block_start=True\n",
    "                start_index = i\n",
    "        else:\n",
    "            if c=='\"':\n",
    "                block_start=False\n",
    "    if s[-1]!=',':\n",
    "        ret_list.append(s[start_index:])\n",
    "    return ret_list\n",
    "\n",
    "def split_len(data_list):\n",
    "    len_list=[]\n",
    "    for e in data_list:\n",
    "        len_list.append(len(e))\n",
    "    print(set(len_list))\n",
    "    if len(set(len_list))>1:\n",
    "        for i in set(len_list):\n",
    "            print(i, len_list.count(i))\n",
    "    return set(len_list)"
   ]
  },
  {
   "cell_type": "code",
   "execution_count": 4,
   "id": "f9434dd4",
   "metadata": {},
   "outputs": [
    {
     "name": "stdout",
     "output_type": "stream",
     "text": [
      "{17}\n",
      "(0, '중개사무소명')\n",
      "(1, '개설등록번호')\n",
      "(2, '개업공인중개사종별구분')\n",
      "(3, '소재지도로명주소')\n",
      "(4, '소재지지번주소')\n",
      "(5, '전화번호')\n",
      "(6, '개설등록일자')\n",
      "(7, '공제가입유무')\n",
      "(8, '대표자명')\n",
      "(9, '위도')\n",
      "(10, '경도')\n",
      "(11, '중개보조원수')\n",
      "(12, '소속공인중개사수')\n",
      "(13, '홈페이지주소')\n",
      "(14, '데이터기준일자')\n",
      "(15, '제공기관코드')\n",
      "(16, '제공기관명')\n"
     ]
    }
   ],
   "source": [
    "csv_data = []\n",
    "with open('전국공인중개사사무소표준데이터.csv') as f:\n",
    "    for line in f:\n",
    "        csv_data.append(my_split(line[:-1]))\n",
    "        \n",
    "assert len(split_len(csv_data)) == 1\n",
    "\n",
    "np_data = np.array(csv_data)\n",
    "for e in enumerate(np_data[0]):\n",
    "    print(e)"
   ]
  },
  {
   "cell_type": "code",
   "execution_count": 5,
   "id": "283680fd",
   "metadata": {},
   "outputs": [
    {
     "name": "stdout",
     "output_type": "stream",
     "text": [
      "['공인중개사' '공인중개사' '공인중개사']\n",
      "[ 5085 23757   527]\n",
      "[17.31417481 80.89141612  1.79440907]\n"
     ]
    }
   ],
   "source": [
    "btypes = np_data[1:, 2]\n",
    "print(btypes[:3])\n",
    "btype_name, btype_count = np.unique(btypes, return_counts = True)\n",
    "print(btype_count)\n",
    "print(100 * btype_count / sum(btype_count))"
   ]
  },
  {
   "cell_type": "code",
   "execution_count": 6,
   "id": "df23db9f",
   "metadata": {},
   "outputs": [
    {
     "data": {
      "text/plain": [
       "(array(['N', 'Y'], dtype='<U74'), array([   30, 29339], dtype=int64))"
      ]
     },
     "execution_count": 6,
     "metadata": {},
     "output_type": "execute_result"
    }
   ],
   "source": [
    "y_n = np_data[1:, 7]\n",
    "np.unique(y_n, return_counts = True)"
   ]
  },
  {
   "cell_type": "code",
   "execution_count": 9,
   "id": "3792972d",
   "metadata": {},
   "outputs": [],
   "source": [
    "names = np_data[1:, 0]\n",
    "name_head = []\n",
    "else_list = []\n",
    "for n in names:\n",
    "    if '공인중개사' in n:\n",
    "        name_head.append(n[:n.index('공인중개사')])\n",
    "    else:\n",
    "        else_list.append(n)"
   ]
  },
  {
   "cell_type": "code",
   "execution_count": 13,
   "id": "327dd753",
   "metadata": {},
   "outputs": [
    {
     "name": "stdout",
     "output_type": "stream",
     "text": [
      "abc공인중개사\n"
     ]
    }
   ],
   "source": [
    "####################################\n",
    "s = 'abc공인중개사'\n",
    "s = s.replace(' ', '')\n",
    "print(s)\n",
    "# s[:s.index('공인중개사')]"
   ]
  },
  {
   "cell_type": "code",
   "execution_count": 16,
   "id": "27225f8a",
   "metadata": {},
   "outputs": [
    {
     "name": "stdout",
     "output_type": "stream",
     "text": [
      "[('삼성', 118), ('현대', 112), ('우리', 98), ('하나', 88), ('미래', 84), ('행운', 84), ('황금', 77), ('태양', 75), ('제일', 69), ('대박', 67)]\n"
     ]
    }
   ],
   "source": [
    "#print(name_head[:10])\n",
    "name, name_count = np.unique(name_head, return_counts = True)\n",
    "names = sorted(zip(name, name_count), key = lambda x: x[1], reverse = True)\n",
    "print(names[:10])"
   ]
  },
  {
   "cell_type": "code",
   "execution_count": 17,
   "id": "82c9cc44",
   "metadata": {},
   "outputs": [
    {
     "name": "stdout",
     "output_type": "stream",
     "text": [
      "2555\n",
      "['미스터홈즈부동산중개광주장지센터', '삼동역힐스테이트부동산중개', '천일부동산중개사무소', '만세부동산중개', '대일부동산중개사무소', '산들부동산중개사무소', '또또부동산중개사무소', '도시개발부동산중개', '금부동산중개사무소', '바른정부동산중개사무소']\n"
     ]
    }
   ],
   "source": [
    "print(len(else_list))\n",
    "print(else_list[:10])"
   ]
  },
  {
   "cell_type": "code",
   "execution_count": 19,
   "id": "61fb9b5d",
   "metadata": {},
   "outputs": [],
   "source": [
    "name2 = []\n",
    "else2 = []\n",
    "\n",
    "for n in else_list:\n",
    "    if '부동산중개' in n:\n",
    "        name2.append(n[:n.index('부동산중개')])\n",
    "    else:\n",
    "        else2.append(n)"
   ]
  },
  {
   "cell_type": "code",
   "execution_count": 20,
   "id": "26983e33",
   "metadata": {},
   "outputs": [
    {
     "data": {
      "text/plain": [
       "[('', 25),\n",
       " ('주식회사', 23),\n",
       " ('미스터홈즈', 18),\n",
       " ('미래', 13),\n",
       " ('우리', 12),\n",
       " ('금강', 10),\n",
       " ('부자', 10),\n",
       " ('삼성', 10),\n",
       " ('제일', 10),\n",
       " ('한국', 10)]"
      ]
     },
     "execution_count": 20,
     "metadata": {},
     "output_type": "execute_result"
    }
   ],
   "source": [
    "x, x_count = np.unique(name2, return_counts = True)\n",
    "x_result = sorted(zip(x, x_count), key = lambda i: i[1], reverse = True)\n",
    "x_result[:10]"
   ]
  }
 ],
 "metadata": {
  "kernelspec": {
   "display_name": "Python 3 (ipykernel)",
   "language": "python",
   "name": "python3"
  },
  "language_info": {
   "codemirror_mode": {
    "name": "ipython",
    "version": 3
   },
   "file_extension": ".py",
   "mimetype": "text/x-python",
   "name": "python",
   "nbconvert_exporter": "python",
   "pygments_lexer": "ipython3",
   "version": "3.10.9"
  }
 },
 "nbformat": 4,
 "nbformat_minor": 5
}
