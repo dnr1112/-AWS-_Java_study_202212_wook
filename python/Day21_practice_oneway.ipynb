{
 "cells": [
  {
   "cell_type": "code",
   "execution_count": 1,
   "id": "017231fb",
   "metadata": {},
   "outputs": [],
   "source": [
    "import numpy as np\n",
    "import pandas as pd"
   ]
  },
  {
   "cell_type": "code",
   "execution_count": 13,
   "id": "ff57f327",
   "metadata": {},
   "outputs": [
    {
     "name": "stdout",
     "output_type": "stream",
     "text": [
      "시도명 False\n",
      "지정사유 False\n",
      "지정연도 False\n",
      "도로폭 False\n",
      "도로차로수 False\n",
      "보차분리여부 False\n"
     ]
    }
   ],
   "source": [
    "pd_rawdata = pd.read_csv('전국일방통행도로표준데이터.csv', encoding = 'cp949')\n",
    "\n",
    "column_selection = ['시도명', '지정사유', '지정연도', '도로폭', '도로차로수', '보차분리여부']\n",
    "pd_data = pd_rawdata[column_selection]\n",
    "\n",
    "pd_data = pd_data.fillna(0)\n",
    "\n",
    "pd_data.replace({'보차분리여부' : 'Y'}, 1, inplace = True)\n",
    "pd_data.replace({'보차분리여부' : 'N'}, 0, inplace = True)\n",
    "\n",
    "for e in pd_data:\n",
    "    print(e, pd_data[e].hasnans)\n",
    "    if pd_data[e].hasnans == True:\n",
    "        print(pd_data[e].isna().value_counts)"
   ]
  }
 ],
 "metadata": {
  "kernelspec": {
   "display_name": "Python 3 (ipykernel)",
   "language": "python",
   "name": "python3"
  },
  "language_info": {
   "codemirror_mode": {
    "name": "ipython",
    "version": 3
   },
   "file_extension": ".py",
   "mimetype": "text/x-python",
   "name": "python",
   "nbconvert_exporter": "python",
   "pygments_lexer": "ipython3",
   "version": "3.10.9"
  }
 },
 "nbformat": 4,
 "nbformat_minor": 5
}
