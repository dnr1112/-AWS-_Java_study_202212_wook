{
 "cells": [
  {
   "cell_type": "code",
   "execution_count": 4,
   "id": "7aef3469",
   "metadata": {},
   "outputs": [],
   "source": [
    "import numpy as np\n",
    "import matplotlib.pyplot as plt\n",
    "from scipy import stats\n",
    "\n",
    "np.set_printoptions(precision = 5, suppress=True)"
   ]
  },
  {
   "cell_type": "code",
   "execution_count": 10,
   "id": "7ad3d9c0",
   "metadata": {},
   "outputs": [
    {
     "ename": "IndentationError",
     "evalue": "expected an indented block after 'with' statement on line 3 (214233083.py, line 4)",
     "output_type": "error",
     "traceback": [
      "\u001b[1;36m  Cell \u001b[1;32mIn[10], line 4\u001b[1;36m\u001b[0m\n\u001b[1;33m    for line in f:\u001b[0m\n\u001b[1;37m    ^\u001b[0m\n\u001b[1;31mIndentationError\u001b[0m\u001b[1;31m:\u001b[0m expected an indented block after 'with' statement on line 3\n"
     ]
    }
   ],
   "source": [
    "def read_data():\n",
    "    raw_data = []\n",
    "    with open('가스공급량_20230217170926.csv') as f:\n",
    "        for line in f:\n",
    "            raw_data.append(line[:-1].split(','))\n",
    "        np_data = np.array(raw_data[2:])\n",
    "        np_data = np.data[:, 2:].astype(np.int64)\n",
    "        return np_data\n",
    "\n",
    "def get_corr(np_data):\n",
    "    by_year = np.add.reduceat(np_data, np.arrange(0, 130, 12))\n",
    "    return np.corrcoef(by_year[:, 1], by_year[:, 5])"
   ]
  },
  {
   "cell_type": "code",
   "execution_count": 8,
   "id": "6ec8ad96",
   "metadata": {},
   "outputs": [
    {
     "ename": "NameError",
     "evalue": "name 'read_data' is not defined",
     "output_type": "error",
     "traceback": [
      "\u001b[1;31m---------------------------------------------------------------------------\u001b[0m",
      "\u001b[1;31mNameError\u001b[0m                                 Traceback (most recent call last)",
      "Cell \u001b[1;32mIn[8], line 1\u001b[0m\n\u001b[1;32m----> 1\u001b[0m d \u001b[38;5;241m=\u001b[39m \u001b[43mread_data\u001b[49m()\n\u001b[0;32m      2\u001b[0m get_corr(d)\n",
      "\u001b[1;31mNameError\u001b[0m: name 'read_data' is not defined"
     ]
    }
   ],
   "source": [
    "d = read_data()\n",
    "get_corr(d)"
   ]
  }
 ],
 "metadata": {
  "kernelspec": {
   "display_name": "Python 3 (ipykernel)",
   "language": "python",
   "name": "python3"
  },
  "language_info": {
   "codemirror_mode": {
    "name": "ipython",
    "version": 3
   },
   "file_extension": ".py",
   "mimetype": "text/x-python",
   "name": "python",
   "nbconvert_exporter": "python",
   "pygments_lexer": "ipython3",
   "version": "3.10.9"
  }
 },
 "nbformat": 4,
 "nbformat_minor": 5
}
