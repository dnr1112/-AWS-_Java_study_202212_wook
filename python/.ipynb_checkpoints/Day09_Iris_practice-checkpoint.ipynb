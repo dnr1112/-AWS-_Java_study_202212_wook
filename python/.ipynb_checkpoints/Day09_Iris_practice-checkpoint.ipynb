{
 "cells": [
  {
   "cell_type": "code",
   "execution_count": 66,
   "id": "59150fa2",
   "metadata": {},
   "outputs": [],
   "source": [
    "import requests\n",
    "import numpy as np\n",
    "import math\n",
    "\n",
    "x = requests.get('https://archive.ics.uci.edu/ml/machine-learning-databases/iris/iris.data')"
   ]
  },
  {
   "cell_type": "code",
   "execution_count": 67,
   "id": "e2664797",
   "metadata": {},
   "outputs": [],
   "source": [
    "raw_data = []\n",
    "for line in x.text.split('\\n'):\n",
    "    raw_data.append(line.split(','))\n",
    "    \n",
    "for sample in raw_data:\n",
    "    for i, value in enumerate(sample[:4]):\n",
    "        try:\n",
    "            sample[i] = float(value)\n",
    "        except:\n",
    "            sample[i] = 0.0"
   ]
  },
  {
   "cell_type": "code",
   "execution_count": 68,
   "id": "79fb2cff",
   "metadata": {},
   "outputs": [
    {
     "name": "stdout",
     "output_type": "stream",
     "text": [
      "[[5.1, 3.5, 1.4, 0.2, 'Iris-setosa'], [4.9, 3.0, 1.4, 0.2, 'Iris-setosa'], [4.7, 3.2, 1.3, 0.2, 'Iris-setosa']]\n"
     ]
    }
   ],
   "source": [
    "print(raw_data[:3])"
   ]
  },
  {
   "cell_type": "code",
   "execution_count": 69,
   "id": "7d012450",
   "metadata": {},
   "outputs": [],
   "source": [
    "for sample in raw_data:\n",
    "    if len(sample) < 2:\n",
    "        continue\n",
    "    if 'setosa' in sample[-1]:\n",
    "        sample[-1] = 0.0\n",
    "    elif 'versicolor' in sample[-1]:\n",
    "        sample[-1] = 1.0\n",
    "    elif 'virginica' in sample[-1]:\n",
    "        sample[-1] = 2.0"
   ]
  },
  {
   "cell_type": "code",
   "execution_count": 70,
   "id": "e522f421",
   "metadata": {},
   "outputs": [
    {
     "name": "stdout",
     "output_type": "stream",
     "text": [
      "[5.1, 3.5, 1.4, 0.2, 0.0]\n",
      "[6.4, 3.2, 4.5, 1.5, 1.0]\n",
      "[5.8, 2.7, 5.1, 1.9, 2.0]\n"
     ]
    }
   ],
   "source": [
    "print(raw_data[0])\n",
    "print(raw_data[51])\n",
    "print(raw_data[101])"
   ]
  },
  {
   "cell_type": "code",
   "execution_count": 71,
   "id": "9a297c99",
   "metadata": {},
   "outputs": [
    {
     "name": "stdout",
     "output_type": "stream",
     "text": [
      "[[5.9, 3.0, 5.1, 1.8, 2.0], [0.0], [0.0]]\n",
      "152\n"
     ]
    }
   ],
   "source": [
    "print(raw_data[-3:])\n",
    "print(len(raw_data))\n",
    "raw_data = raw_data[:150]"
   ]
  },
  {
   "cell_type": "code",
   "execution_count": 72,
   "id": "b6015b84",
   "metadata": {},
   "outputs": [
    {
     "data": {
      "text/plain": [
       "array([[5.1, 3.5, 1.4, 0.2, 0. ],\n",
       "       [4.9, 3. , 1.4, 0.2, 0. ],\n",
       "       [4.7, 3.2, 1.3, 0.2, 0. ]])"
      ]
     },
     "execution_count": 72,
     "metadata": {},
     "output_type": "execute_result"
    }
   ],
   "source": [
    "np_data = np.array(raw_data)\n",
    "np_data.shape\n",
    "np_data[:3]"
   ]
  },
  {
   "cell_type": "markdown",
   "id": "d5e564a9",
   "metadata": {},
   "source": [
    "### 기본 통계값\n",
    "* 전체(150샘플) 평균, 표준편차 - sepal length, sepal width, petal length, petal width\n",
    "* 품종별(50개씩) 평균, 표준편차\n",
    "* 평균 np.mean()\n",
    "* 표준편차 np.std()"
   ]
  },
  {
   "cell_type": "code",
   "execution_count": 83,
   "id": "97f230eb",
   "metadata": {},
   "outputs": [
    {
     "name": "stdout",
     "output_type": "stream",
     "text": [
      "[[5.1 3.5 1.4 0.2 0. ]\n",
      " [4.9 3.  1.4 0.2 0. ]\n",
      " [4.7 3.2 1.3 0.2 0. ]\n",
      " [4.6 3.1 1.5 0.2 0. ]\n",
      " [5.  3.6 1.4 0.2 0. ]\n",
      " [5.4 3.9 1.7 0.4 0. ]\n",
      " [4.6 3.4 1.4 0.3 0. ]\n",
      " [5.  3.4 1.5 0.2 0. ]\n",
      " [4.4 2.9 1.4 0.2 0. ]\n",
      " [4.9 3.1 1.5 0.1 0. ]\n",
      " [5.4 3.7 1.5 0.2 0. ]\n",
      " [4.8 3.4 1.6 0.2 0. ]\n",
      " [4.8 3.  1.4 0.1 0. ]\n",
      " [4.3 3.  1.1 0.1 0. ]\n",
      " [5.8 4.  1.2 0.2 0. ]\n",
      " [5.7 4.4 1.5 0.4 0. ]\n",
      " [5.4 3.9 1.3 0.4 0. ]\n",
      " [5.1 3.5 1.4 0.3 0. ]\n",
      " [5.7 3.8 1.7 0.3 0. ]\n",
      " [5.1 3.8 1.5 0.3 0. ]\n",
      " [5.4 3.4 1.7 0.2 0. ]\n",
      " [5.1 3.7 1.5 0.4 0. ]\n",
      " [4.6 3.6 1.  0.2 0. ]\n",
      " [5.1 3.3 1.7 0.5 0. ]\n",
      " [4.8 3.4 1.9 0.2 0. ]\n",
      " [5.  3.  1.6 0.2 0. ]\n",
      " [5.  3.4 1.6 0.4 0. ]\n",
      " [5.2 3.5 1.5 0.2 0. ]\n",
      " [5.2 3.4 1.4 0.2 0. ]\n",
      " [4.7 3.2 1.6 0.2 0. ]\n",
      " [4.8 3.1 1.6 0.2 0. ]\n",
      " [5.4 3.4 1.5 0.4 0. ]\n",
      " [5.2 4.1 1.5 0.1 0. ]\n",
      " [5.5 4.2 1.4 0.2 0. ]\n",
      " [4.9 3.1 1.5 0.1 0. ]\n",
      " [5.  3.2 1.2 0.2 0. ]\n",
      " [5.5 3.5 1.3 0.2 0. ]\n",
      " [4.9 3.1 1.5 0.1 0. ]\n",
      " [4.4 3.  1.3 0.2 0. ]\n",
      " [5.1 3.4 1.5 0.2 0. ]\n",
      " [5.  3.5 1.3 0.3 0. ]\n",
      " [4.5 2.3 1.3 0.3 0. ]\n",
      " [4.4 3.2 1.3 0.2 0. ]\n",
      " [5.  3.5 1.6 0.6 0. ]\n",
      " [5.1 3.8 1.9 0.4 0. ]\n",
      " [4.8 3.  1.4 0.3 0. ]\n",
      " [5.1 3.8 1.6 0.2 0. ]\n",
      " [4.6 3.2 1.4 0.2 0. ]\n",
      " [5.3 3.7 1.5 0.2 0. ]\n",
      " [5.  3.3 1.4 0.2 0. ]\n",
      " [7.  3.2 4.7 1.4 1. ]]\n"
     ]
    }
   ],
   "source": [
    "print(np_data[:, ][:51])"
   ]
  },
  {
   "cell_type": "code",
   "execution_count": 95,
   "id": "b5890f59",
   "metadata": {},
   "outputs": [
    {
     "name": "stdout",
     "output_type": "stream",
     "text": [
      "all avg - sepal length:  5.843333333333334\n",
      "all avg - sepal width:  3.0540000000000003\n",
      "all avg - petal length:  3.758666666666666\n",
      "all avg - petal width:  1.1986666666666668\n",
      "numpy avg:  [5.84333333 3.054      3.75866667 1.19866667 1.        ]\n",
      "all std - sepal length:  0.8253012917851409\n",
      "all std - sepal width:  0.4321465800705435\n",
      "all std - petal length:  1.7585291834055212\n",
      "all std - petal width:  0.7606126185881716\n",
      "numpy std:  [0.82530129 0.43214658 1.75852918 0.76061262 0.81649658]\n",
      "[[1.         0.99706483 0.99997795 ... 0.73911793 0.73861621 0.72169879]\n",
      " [0.99706483 1.         0.99750791 ... 0.78062955 0.77554908 0.76056628]\n",
      " [0.99997795 0.99750791 1.         ... 0.74245616 0.74174869 0.72472528]\n",
      " ...\n",
      " [0.73911793 0.78062955 0.74245616 ... 1.         0.99295525 0.99565547]\n",
      " [0.73861621 0.77554908 0.74174869 ... 0.99295525 1.         0.99497962]\n",
      " [0.72169879 0.76056628 0.72472528 ... 0.99565547 0.99497962 1.        ]]\n"
     ]
    }
   ],
   "source": [
    "# 전체 평균\n",
    "print('all avg - sepal length: ', np.mean(np_data[:, 0]))\n",
    "print('all avg - sepal width: ', np.mean(np_data[:, 1]))\n",
    "print('all avg - petal length: ', np.mean(np_data[:, 2]))\n",
    "print('all avg - petal width: ', np.mean(np_data[:, 3]))\n",
    "print('numpy avg: ', np.mean(np_data, axis = 0))\n",
    "print('all std - sepal length: ', np.std(np_data[:, 0]))\n",
    "print('all std - sepal width: ', np.std(np_data[:, 1]))\n",
    "print('all std - petal length: ', np.std(np_data[:, 2]))\n",
    "print('all std - petal width: ', np.std(np_data[:, 3]))\n",
    "print('numpy std: ', np.std(np_data, axis = 0))\n",
    "\n",
    "print(np.corrcoef(np_data))     # 상관도"
   ]
  },
  {
   "cell_type": "code",
   "execution_count": 98,
   "id": "a5cd4511",
   "metadata": {},
   "outputs": [
    {
     "name": "stdout",
     "output_type": "stream",
     "text": [
      "Setosa avg - sepal length:  5.006\n",
      "Setosa avg - sepal width:  3.418\n",
      "Setosa avg - petal length:  1.464\n",
      "Setosa avg - petal width:  0.244\n",
      "Setosa std - sepal length:  0.3489469873777391\n",
      "Setosa std - sepal width:  0.37719490982779713\n",
      "Setosa std - petal length:  0.17176728442867112\n",
      "Setosa std - petal width:  0.10613199329137281\n",
      "[5.006 3.418 1.464 0.244 0.   ]\n",
      "[0.34894699 0.37719491 0.17176728 0.10613199 0.        ]\n",
      "[5.936 2.77  4.26  1.326 1.   ]\n",
      "[0.51098337 0.31064449 0.46518813 0.19576517 0.        ]\n",
      "[6.588 2.974 5.552 2.026 2.   ]\n",
      "[0.62948868 0.31925538 0.54634787 0.27188968 0.        ]\n"
     ]
    }
   ],
   "source": [
    "# Setosa\n",
    "print('Setosa avg - sepal length: ', np.mean(np_data[:, 0][:50]))\n",
    "print('Setosa avg - sepal width: ', np.mean(np_data[:, 1][:50]))\n",
    "print('Setosa avg - petal length: ', np.mean(np_data[:, 2][:50]))\n",
    "print('Setosa avg - petal width: ', np.mean(np_data[:, 3][:50]))\n",
    "print('Setosa std - sepal length: ', np.std(np_data[:, 0][:50]))\n",
    "print('Setosa std - sepal width: ', np.std(np_data[:, 1][:50]))\n",
    "print('Setosa std - petal length: ', np.std(np_data[:, 2][:50]))\n",
    "print('Setosa std - petal width: ', np.std(np_data[:, 3][:50]))\n",
    "\n",
    "filter_setosa = np_data[:, -1] == 0        # iris가 setosa인지 찾는 필터\n",
    "filter_versicolor = np_data[:, -1] == 1.0  # iris가 versicolor인지 찾는 필터\n",
    "filter_virginica = np_data[:, -1] == 2.0   # iris가 virginica인지 찾는 필터\n",
    "\n",
    "print(np.mean(np_data[filter_setosa], axis = 0))\n",
    "print(np.std(np_data[filter_setosa], axis = 0))\n",
    "\n",
    "print(np.mean(np_data[filter_versicolor], axis = 0))\n",
    "print(np.std(np_data[filter_versicolor], axis = 0))\n",
    "\n",
    "print(np.mean(np_data[filter_virginica], axis = 0))\n",
    "print(np.std(np_data[filter_virginica], axis = 0))"
   ]
  },
  {
   "cell_type": "code",
   "execution_count": 91,
   "id": "efb8343d",
   "metadata": {},
   "outputs": [
    {
     "name": "stdout",
     "output_type": "stream",
     "text": [
      "Versicolour avg - sepal length:  5.914285714285715\n",
      "Versicolour avg - sepal width:  2.7612244897959184\n",
      "Versicolour avg - petal length:  4.2510204081632645\n",
      "Versicolour avg - petal length:  1.3244897959183672\n",
      "Versicolour std - sepal length:  0.4928053803045812\n",
      "Versicolour std - sepal width:  0.30760186733504236\n",
      "Versicolour std - petal length:  0.46560141006325856\n",
      "Versicolour std - petal length:  0.1974641401130104\n"
     ]
    }
   ],
   "source": [
    "# Versicolour\n",
    "print('Versicolour avg - sepal length: ', np.mean(np_data[:, 0][51:100]))\n",
    "print('Versicolour avg - sepal width: ', np.mean(np_data[:, 1][51:100]))\n",
    "print('Versicolour avg - petal length: ', np.mean(np_data[:, 2][51:100]))\n",
    "print('Versicolour avg - petal length: ', np.mean(np_data[:, 3][51:100]))\n",
    "print('Versicolour std - sepal length: ', np.std(np_data[:, 0][51:100]))\n",
    "print('Versicolour std - sepal width: ', np.std(np_data[:, 1][51:100]))\n",
    "print('Versicolour std - petal length: ', np.std(np_data[:, 2][51:100]))\n",
    "print('Versicolour std - petal length: ', np.std(np_data[:, 3][51:100]))"
   ]
  },
  {
   "cell_type": "code",
   "execution_count": 92,
   "id": "7b2fa032",
   "metadata": {},
   "outputs": [
    {
     "name": "stdout",
     "output_type": "stream",
     "text": [
      "Virginica avg - sepal length:  6.593877551020409\n",
      "Virginica avg - sepal width:  2.9673469387755103\n",
      "Virginica avg - petal length:  5.542857142857144\n",
      "Virginica avg - petal width:  2.0163265306122446\n",
      "Virginica std - sepal length:  0.634519957797217\n",
      "Virginica std - sepal width:  0.31904689381000495\n",
      "Virginica std - petal length:  0.5480950312357394\n",
      "Virginica std - petal width:  0.2659959634307121\n"
     ]
    }
   ],
   "source": [
    "# Virginica\n",
    "print('Virginica avg - sepal length: ', np.mean(np_data[:, 0][101:150]))\n",
    "print('Virginica avg - sepal width: ', np.mean(np_data[:, 1][101:150]))\n",
    "print('Virginica avg - petal length: ', np.mean(np_data[:, 2][101:150]))\n",
    "print('Virginica avg - petal width: ', np.mean(np_data[:, 3][101:150]))\n",
    "print('Virginica std - sepal length: ', np.std(np_data[:, 0][101:150]))\n",
    "print('Virginica std - sepal width: ', np.std(np_data[:, 1][101:150]))\n",
    "print('Virginica std - petal length: ', np.std(np_data[:, 2][101:150]))\n",
    "print('Virginica std - petal width: ', np.std(np_data[:, 3][101:150]))"
   ]
  }
 ],
 "metadata": {
  "kernelspec": {
   "display_name": "Python 3 (ipykernel)",
   "language": "python",
   "name": "python3"
  },
  "language_info": {
   "codemirror_mode": {
    "name": "ipython",
    "version": 3
   },
   "file_extension": ".py",
   "mimetype": "text/x-python",
   "name": "python",
   "nbconvert_exporter": "python",
   "pygments_lexer": "ipython3",
   "version": "3.10.9"
  }
 },
 "nbformat": 4,
 "nbformat_minor": 5
}
