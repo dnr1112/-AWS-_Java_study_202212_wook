{
 "cells": [
  {
   "cell_type": "code",
   "execution_count": 4,
   "id": "ca263adc",
   "metadata": {},
   "outputs": [
    {
     "name": "stdout",
     "output_type": "stream",
     "text": [
      "[2, 1, 5, 3, 4, 6]\n"
     ]
    }
   ],
   "source": [
    "import random\n",
    "\n",
    "list_a = [1, 2, 3, 4, 5, 6]\n",
    "random.shuffle(list_a)\n",
    "print(list_a)"
   ]
  },
  {
   "cell_type": "code",
   "execution_count": 29,
   "id": "8b57c65a",
   "metadata": {},
   "outputs": [
    {
     "name": "stdout",
     "output_type": "stream",
     "text": [
      "['Spade', 'Clover', 'Heart', 'Diamond']\n",
      "['Ace', '2', '3', '4', '5', '6', '7', '8', '9', '10', 'Jack', 'Queen', 'King']\n"
     ]
    }
   ],
   "source": [
    "suits = ['Spade', 'Clover', 'Heart', 'Diamond']\n",
    "# rank = ['ace', '2', '3', '4', '5', '6', '7', '8', '9', '10', 'Jack', 'Queen', 'King']\n",
    "rank = [str(i) for i in range(2, 11)]\n",
    "rank = ['Ace'] + rank + ['Jack', 'Queen', 'King']\n",
    "print(suits)\n",
    "print(rank)"
   ]
  },
  {
   "cell_type": "code",
   "execution_count": 62,
   "id": "d2257780",
   "metadata": {},
   "outputs": [
    {
     "name": "stdout",
     "output_type": "stream",
     "text": [
      "{'Spade - Ace': 1, 'Spade - 2': 2, 'Spade - 3': 3, 'Spade - 4': 4, 'Spade - 5': 5, 'Spade - 6': 6, 'Spade - 7': 7, 'Spade - 8': 8, 'Spade - 9': 9, 'Spade - 10': 10, 'Spade - Jack': 10, 'Spade - Queen': 10, 'Spade - King': 10, 'Clover - Ace': 1, 'Clover - 2': 2, 'Clover - 3': 3, 'Clover - 4': 4, 'Clover - 5': 5, 'Clover - 6': 6, 'Clover - 7': 7, 'Clover - 8': 8, 'Clover - 9': 9, 'Clover - 10': 10, 'Clover - Jack': 10, 'Clover - Queen': 10, 'Clover - King': 10, 'Heart - Ace': 1, 'Heart - 2': 2, 'Heart - 3': 3, 'Heart - 4': 4, 'Heart - 5': 5, 'Heart - 6': 6, 'Heart - 7': 7, 'Heart - 8': 8, 'Heart - 9': 9, 'Heart - 10': 10, 'Heart - Jack': 10, 'Heart - Queen': 10, 'Heart - King': 10, 'Diamond - Ace': 1, 'Diamond - 2': 2, 'Diamond - 3': 3, 'Diamond - 4': 4, 'Diamond - 5': 5, 'Diamond - 6': 6, 'Diamond - 7': 7, 'Diamond - 8': 8, 'Diamond - 9': 9, 'Diamond - 10': 10, 'Diamond - Jack': 10, 'Diamond - Queen': 10, 'Diamond - King': 10}\n"
     ]
    }
   ],
   "source": [
    "Deck = []\n",
    "\n",
    "for s in suits:\n",
    "    for r in rank:\n",
    "        Deck.append(s + ' - ' + r)\n",
    "\n",
    "score_list = [i+1 for i in range(10)]\n",
    "score_list = score_list + [10] * 3\n",
    "score_list = score_list * 4\n",
    "score_dict = dict(zip(Deck, score_list))\n",
    "#print(Deck)\n",
    "#print(score_list)\n",
    "print(score_dict)\n",
    "\n",
    "\n",
    "\n",
    "def score_hand(hand):\n",
    "    score = 0\n",
    "    for card in hand:\n",
    "        score = score + score_dict[card]\n",
    "    return score"
   ]
  },
  {
   "cell_type": "code",
   "execution_count": 60,
   "id": "6457028e",
   "metadata": {},
   "outputs": [
    {
     "name": "stdout",
     "output_type": "stream",
     "text": [
      "['Heart - 8', 'Heart - 4', 'Diamond - 5', 'Heart - Ace', 'Heart - King', 'Clover - Queen', 'Clover - King', 'Spade - 9', 'Spade - 7', 'Diamond - 10', 'Spade - 3', 'Spade - 6', 'Clover - 4', 'Spade - Ace', 'Clover - 9', 'Diamond - 6', 'Diamond - Queen', 'Heart - 2', 'Clover - Ace', 'Heart - Jack', 'Clover - 7', 'Diamond - 2', 'Diamond - 9', 'Diamond - Jack', 'Spade - Jack', 'Heart - 9', 'Heart - 6', 'Clover - Jack', 'Clover - 10', 'Spade - King', 'Clover - 2', 'Clover - 5', 'Spade - 4', 'Diamond - 3', 'Heart - 7', 'Diamond - 8', 'Diamond - 7', 'Spade - 10', 'Heart - 5', 'Clover - 8', 'Spade - 2', 'Spade - Queen', 'Heart - 3', 'Heart - 10', 'Diamond - Ace', 'Heart - Queen', 'Clover - 3', 'Spade - 8', 'Diamond - 4', 'Diamond - King', 'Clover - 6', 'Spade - 5']\n"
     ]
    }
   ],
   "source": [
    "random.shuffle(Deck)\n",
    "print(Deck)"
   ]
  },
  {
   "cell_type": "code",
   "execution_count": 67,
   "id": "4a828ea6",
   "metadata": {},
   "outputs": [
    {
     "name": "stdout",
     "output_type": "stream",
     "text": [
      "Game Start\n",
      "\n",
      "Dealer Hands\n",
      "['Spade - 5', 'Diamond - 7'] 12\n",
      "\n",
      "\n",
      "Player hands\n",
      "['Diamond - 4', 'Heart - Queen'] 14\n",
      "Deal(1) or Stop(0): 1\n",
      "['Diamond - 4', 'Heart - Queen', 'Clover - 8'] 22\n"
     ]
    }
   ],
   "source": [
    "print('Game Start\\n')\n",
    "random.shuffle(Deck)\n",
    "print('Dealer Hands')\n",
    "dealer_hand = [Deck.pop() for _ in range(2)]\n",
    "print(dealer_hand, score_hand(dealer_hand))\n",
    "\n",
    "print('\\n\\nPlayer hands')\n",
    "player_hand = [Deck.pop() for _ in range(2)]\n",
    "print(player_hand, score_hand(player_hand))\n",
    "\n",
    "if score_hand(player_hand) < 21:\n",
    "    ans = int(input('Deal(1) or Stop(0): '))\n",
    "    if ans == 1:\n",
    "        player_hand.append(Deck.pop())\n",
    "        print(player_hand, score_hand(player_hand))"
   ]
  }
 ],
 "metadata": {
  "kernelspec": {
   "display_name": "Python 3 (ipykernel)",
   "language": "python",
   "name": "python3"
  },
  "language_info": {
   "codemirror_mode": {
    "name": "ipython",
    "version": 3
   },
   "file_extension": ".py",
   "mimetype": "text/x-python",
   "name": "python",
   "nbconvert_exporter": "python",
   "pygments_lexer": "ipython3",
   "version": "3.10.9"
  }
 },
 "nbformat": 4,
 "nbformat_minor": 5
}
