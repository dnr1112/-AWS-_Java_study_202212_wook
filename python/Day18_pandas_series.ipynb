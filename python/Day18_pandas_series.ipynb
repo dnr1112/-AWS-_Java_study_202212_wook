{
 "cells": [
  {
   "cell_type": "code",
   "execution_count": 4,
   "id": "09d6d98e",
   "metadata": {},
   "outputs": [
    {
     "name": "stdout",
     "output_type": "stream",
     "text": [
      "       0    1    2    3               4\n",
      "0    5.1  3.5  1.4  0.2     Iris-setosa\n",
      "1    4.9  3.0  1.4  0.2     Iris-setosa\n",
      "2    4.7  3.2  1.3  0.2     Iris-setosa\n",
      "3    4.6  3.1  1.5  0.2     Iris-setosa\n",
      "4    5.0  3.6  1.4  0.2     Iris-setosa\n",
      "..   ...  ...  ...  ...             ...\n",
      "145  6.7  3.0  5.2  2.3  Iris-virginica\n",
      "146  6.3  2.5  5.0  1.9  Iris-virginica\n",
      "147  6.5  3.0  5.2  2.0  Iris-virginica\n",
      "148  6.2  3.4  5.4  2.3  Iris-virginica\n",
      "149  5.9  3.0  5.1  1.8  Iris-virginica\n",
      "\n",
      "[150 rows x 5 columns]\n"
     ]
    }
   ],
   "source": [
    "import numpy as np\n",
    "import pandas as pd\n",
    "import requests\n",
    "\n",
    "iris_df = pd.read_csv('iris.data', header = None)\n",
    "print(iris_df)"
   ]
  },
  {
   "cell_type": "code",
   "execution_count": 5,
   "id": "2e1d3ab1",
   "metadata": {},
   "outputs": [
    {
     "name": "stdout",
     "output_type": "stream",
     "text": [
      "0    i\n",
      "1    r\n",
      "2    i\n",
      "3    s\n",
      "4    .\n",
      "5    d\n",
      "6    a\n",
      "7    t\n",
      "8    a\n",
      "dtype: object\n",
      "<class 'pandas.core.frame.DataFrame'> <class 'pandas.core.series.Series'>\n"
     ]
    }
   ],
   "source": [
    "s1 = pd.Series(list('iris.data'))\n",
    "print(s1)\n",
    "print(type(iris_df), type(s1))"
   ]
  },
  {
   "cell_type": "code",
   "execution_count": 13,
   "id": "1ab1eeb4",
   "metadata": {},
   "outputs": [
    {
     "name": "stdout",
     "output_type": "stream",
     "text": [
      "6    16\n",
      "7    17\n",
      "8    18\n",
      "9    19\n",
      "dtype: int64\n"
     ]
    }
   ],
   "source": [
    "s2 = pd.Series([1, 1.0, 'a'])\n",
    "s3 = pd.Series([x for x in range(10, 20)])\n",
    "# print(s3)\n",
    "# print(s3[3])\n",
    "# print(s3[3:8:2])\n",
    "# print(s3[[3, 7, 9]])\n",
    "print(s3[s3 > 15])"
   ]
  },
  {
   "cell_type": "code",
   "execution_count": 15,
   "id": "62e2aa95",
   "metadata": {},
   "outputs": [
    {
     "name": "stdout",
     "output_type": "stream",
     "text": [
      "1\n",
      "int64\n",
      "(10,)\n"
     ]
    }
   ],
   "source": [
    "print(s3.ndim)\n",
    "print(s3.dtype)\n",
    "print(s3.shape)"
   ]
  },
  {
   "cell_type": "code",
   "execution_count": 16,
   "id": "60da6247",
   "metadata": {},
   "outputs": [
    {
     "name": "stdout",
     "output_type": "stream",
     "text": [
      "[10 11 12 13 14 15 16 17 18 19] <class 'numpy.ndarray'>\n"
     ]
    }
   ],
   "source": [
    "s3_np = s3.to_numpy()\n",
    "print(s3_np, type(s3_np))"
   ]
  },
  {
   "cell_type": "code",
   "execution_count": 19,
   "id": "04b9e803",
   "metadata": {},
   "outputs": [
    {
     "name": "stdout",
     "output_type": "stream",
     "text": [
      "0    30\n",
      "1    33\n",
      "2    36\n",
      "3    39\n",
      "4    42\n",
      "5    45\n",
      "6    48\n",
      "7    51\n",
      "8    54\n",
      "9    57\n",
      "dtype: int64\n"
     ]
    }
   ],
   "source": [
    "print(s3 * 3)"
   ]
  },
  {
   "cell_type": "code",
   "execution_count": 29,
   "id": "dfe13e1c",
   "metadata": {
    "scrolled": true
   },
   "outputs": [
    {
     "name": "stdout",
     "output_type": "stream",
     "text": [
      "      a    b  c\n",
      "2  12.0  102  c\n",
      "3  13.0  103  d\n",
      "4  14.0  104  e\n"
     ]
    }
   ],
   "source": [
    "### df\n",
    "\n",
    "s1 = pd.Series([x for x in range(10, 20)])\n",
    "s2 = pd.Series([x for x in range(100, 120)])\n",
    "s3 = pd.Series(list('abcdefghijk'))\n",
    "df1 = pd.DataFrame({'a' : s1, 'b' : s2, 'c' : s3})\n",
    "# print(df1)\n",
    "# print(df1['b'])    # key값을 줘서 찾을 수 있음\n",
    "# print(df1[['a', 'b']])\n",
    "print(df1[2:5])"
   ]
  },
  {
   "cell_type": "code",
   "execution_count": 31,
   "id": "0ac8088e",
   "metadata": {},
   "outputs": [
    {
     "name": "stdout",
     "output_type": "stream",
     "text": [
      "      a    b  c\n",
      "0  10.0  100  a\n",
      "1  11.0  101  b\n",
      "2  12.0  102  c\n",
      "3  13.0  103  d\n",
      "4  14.0  104  e\n",
      "     a    b    c\n",
      "15 NaN  115  NaN\n",
      "16 NaN  116  NaN\n",
      "17 NaN  117  NaN\n",
      "18 NaN  118  NaN\n",
      "19 NaN  119  NaN\n"
     ]
    }
   ],
   "source": [
    "print(df1.head())    # 맨 상위 5개\n",
    "print(df1.tail())    # 맨 하위 5개"
   ]
  },
  {
   "cell_type": "code",
   "execution_count": 41,
   "id": "c61cdf3d",
   "metadata": {
    "scrolled": true
   },
   "outputs": [
    {
     "name": "stdout",
     "output_type": "stream",
     "text": [
      "      a  c\n",
      "3  13.0  d\n",
      "4  14.0  e\n",
      "5  15.0  f\n",
      "6  16.0  g\n",
      "7  17.0  h\n",
      "8  18.0  i\n",
      "9  19.0  j\n"
     ]
    }
   ],
   "source": [
    "# print(df1)\n",
    "# print(df1.loc[:, 'a'])    # loc: location\n",
    "# print(df1.loc[3:10, ['a', 'c']])\n",
    "print(df1.iloc[3:10, [0, 2]])    # int만 받기 때문에, 0번 인덱스면 'a'..."
   ]
  }
 ],
 "metadata": {
  "kernelspec": {
   "display_name": "Python 3 (ipykernel)",
   "language": "python",
   "name": "python3"
  },
  "language_info": {
   "codemirror_mode": {
    "name": "ipython",
    "version": 3
   },
   "file_extension": ".py",
   "mimetype": "text/x-python",
   "name": "python",
   "nbconvert_exporter": "python",
   "pygments_lexer": "ipython3",
   "version": "3.10.9"
  }
 },
 "nbformat": 4,
 "nbformat_minor": 5
}
