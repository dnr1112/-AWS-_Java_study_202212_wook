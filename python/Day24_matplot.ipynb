{
 "cells": [
  {
   "cell_type": "code",
   "execution_count": 3,
   "id": "f79b9efb",
   "metadata": {},
   "outputs": [
    {
     "name": "stdout",
     "output_type": "stream",
     "text": [
      "     AGE  SEX   BMI      BP   S1     S2    S3    S4      S5   S6    Y\n",
      "0     59    2  32.1  101.00  157   93.2  38.0  4.00  4.8598   87  151\n",
      "1     48    1  21.6   87.00  183  103.2  70.0  3.00  3.8918   69   75\n",
      "2     72    2  30.5   93.00  156   93.6  41.0  4.00  4.6728   85  141\n",
      "3     24    1  25.3   84.00  198  131.4  40.0  5.00  4.8903   89  206\n",
      "4     50    1  23.0  101.00  192  125.4  52.0  4.00  4.2905   80  135\n",
      "..   ...  ...   ...     ...  ...    ...   ...   ...     ...  ...  ...\n",
      "437   60    2  28.2  112.00  185  113.8  42.0  4.00  4.9836   93  178\n",
      "438   47    2  24.9   75.00  225  166.0  42.0  5.00  4.4427  102  104\n",
      "439   60    2  24.9   99.67  162  106.6  43.0  3.77  4.1271   95  132\n",
      "440   36    1  30.0   95.00  201  125.2  42.0  4.79  5.1299   85  220\n",
      "441   36    1  19.6   71.00  250  133.2  97.0  3.00  4.5951   92   57\n",
      "\n",
      "[442 rows x 11 columns]\n"
     ]
    }
   ],
   "source": [
    "import numpy as np\n",
    "import pandas as pd\n",
    "import matplotlib.pyplot as plt\n",
    "import matplotlib\n",
    "\n",
    "url = 'https://www4.stat.ncsu.edu/~boos/var.select/diabetes.tab.txt'\n",
    "pd_data = pd.read_csv(url, sep = '\\t')\n",
    "print(pd_data)"
   ]
  },
  {
   "cell_type": "code",
   "execution_count": 9,
   "id": "6718f19a",
   "metadata": {},
   "outputs": [
    {
     "data": {
      "text/plain": [
       "[<matplotlib.axis.XTick at 0x23178bc0430>,\n",
       " <matplotlib.axis.XTick at 0x23178bc0280>,\n",
       " <matplotlib.axis.XTick at 0x23178bc1150>,\n",
       " <matplotlib.axis.XTick at 0x23178be3af0>,\n",
       " <matplotlib.axis.XTick at 0x23178c24310>,\n",
       " <matplotlib.axis.XTick at 0x23178bc2c20>,\n",
       " <matplotlib.axis.XTick at 0x23178ce3dc0>]"
      ]
     },
     "execution_count": 9,
     "metadata": {},
     "output_type": "execute_result"
    },
    {
     "data": {
      "image/png": "[encoded data removed]",
      "text/plain": [
       "<Figure size 200x200 with 1 Axes>"
      ]
     },
     "metadata": {},
     "output_type": "display_data"
    }
   ],
   "source": [
    "_, axe = plt.subplots()\n",
    "# axe.plot(pd_data['BMI'])\n",
    "axe.hist(pd_data['BMI'], bins = 10, edgecolor = 'white', linewidth = 2.0)\n",
    "\n",
    "ax.set(xlim = (0, 8), xticks = np.arange(1, 8),\n",
    "      ylim = (0, 56), yticks = np.linspace(0, 56, 9))\n",
    "\n",
    "ax.set_xlim(0, 8)\n",
    "ax.set_ylim(0, 56)\n",
    "ax.set_xticks(np.arange(1, 8))"
   ]
  },
  {
   "cell_type": "code",
   "execution_count": 15,
   "id": "bcd01203",
   "metadata": {},
   "outputs": [
    {
     "data": {
      "text/plain": [
       "count    442.000000\n",
       "mean      48.518100\n",
       "std       13.109028\n",
       "min       19.000000\n",
       "25%       38.250000\n",
       "50%       50.000000\n",
       "75%       59.000000\n",
       "max       79.000000\n",
       "Name: AGE, dtype: float64"
      ]
     },
     "execution_count": 15,
     "metadata": {},
     "output_type": "execute_result"
    },
    {
     "data": {
      "image/png": "[encoded data removed]",
      "text/plain": [
       "<Figure size 200x200 with 1 Axes>"
      ]
     },
     "metadata": {},
     "output_type": "display_data"
    }
   ],
   "source": [
    "_, axe = plt.subplots()\n",
    "axe.boxplot(pd_data['AGE'])\n",
    "pd_data['AGE'].describe()"
   ]
  },
  {
   "cell_type": "code",
   "execution_count": 18,
   "id": "082609f2",
   "metadata": {},
   "outputs": [
    {
     "data": {
      "text/plain": [
       "([<matplotlib.patches.Wedge at 0x2317c339750>,\n",
       "  <matplotlib.patches.Wedge at 0x2317bbff430>],\n",
       " [Text(-0.10927765081376023, 1.0945585388788606, ''),\n",
       "  Text(0.1092776508137601, -1.0945585388788606, '')])"
      ]
     },
     "execution_count": 18,
     "metadata": {},
     "output_type": "execute_result"
    },
    {
     "data": {
      "image/png": "[encoded data removed]",
      "text/plain": [
       "<Figure size 200x200 with 1 Axes>"
      ]
     },
     "metadata": {},
     "output_type": "display_data"
    }
   ],
   "source": [
    "_, axe = plt.subplots()\n",
    "axe.pie(pd_data['SEX'].value_counts())"
   ]
  }
 ],
 "metadata": {
  "kernelspec": {
   "display_name": "Python 3 (ipykernel)",
   "language": "python",
   "name": "python3"
  },
  "language_info": {
   "codemirror_mode": {
    "name": "ipython",
    "version": 3
   },
   "file_extension": ".py",
   "mimetype": "text/x-python",
   "name": "python",
   "nbconvert_exporter": "python",
   "pygments_lexer": "ipython3",
   "version": "3.10.9"
  }
 },
 "nbformat": 4,
 "nbformat_minor": 5
}
