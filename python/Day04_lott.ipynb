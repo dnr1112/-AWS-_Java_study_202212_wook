{
 "cells": [
  {
   "cell_type": "code",
   "execution_count": 2,
   "id": "0874b1db",
   "metadata": {},
   "outputs": [
    {
     "name": "stdout",
     "output_type": "stream",
     "text": [
      "[['5', '17', '26', '27', '35', '38', '1'], ['21', '26', '30', '32', '33', '35', '44'], ['6', '12', '31', '35', '38', '43', '17']]\n"
     ]
    },
    {
     "data": {
      "text/plain": [
       "1"
      ]
     },
     "execution_count": 2,
     "metadata": {},
     "output_type": "execute_result"
    }
   ],
   "source": [
    "csv_data = []\n",
    "with open('lott.CSV') as f:\n",
    "    for line in f:\n",
    "        csv_data.append(line[:-1].split(','))\n",
    "        #c sv_data.append(line.replace('\\n', '').split(','))\n",
    "print(csv_data[:3])\n",
    "int(csv_data[0][-1])"
   ]
  },
  {
   "cell_type": "code",
   "execution_count": 13,
   "id": "abfbd2de",
   "metadata": {},
   "outputs": [
    {
     "name": "stdout",
     "output_type": "stream",
     "text": [
      "[[5, 17, 26, 27, 35, 38, 1], [21, 26, 30, 32, 33, 35, 44], [6, 12, 31, 35, 38, 43, 17]]\n"
     ]
    }
   ],
   "source": [
    "for e in csv_data:\n",
    "    for i, e_i in enumerate(e):\n",
    "        e[i] = int(e_i)\n",
    "print(csv_data[:3])"
   ]
  },
  {
   "cell_type": "code",
   "execution_count": 76,
   "id": "f833c7c3",
   "metadata": {},
   "outputs": [
    {
     "name": "stdout",
     "output_type": "stream",
     "text": [
      "[1, 5, 17, 26, 27, 35, 38]\n",
      "21.285714285714285\n",
      "21.285714285714285\n",
      "None\n",
      "[1, 5, 17, 26, 27, 35, 38]\n",
      "26\n",
      "26\n",
      "26.5\n",
      "[-20.285714285714285, -16.285714285714285, -4.285714285714285, 4.714285714285715, 5.714285714285715, 13.714285714285715, 16.714285714285715]\n",
      "202.90476190476193\n",
      "14.244464254746893\n"
     ]
    }
   ],
   "source": [
    "import math\n",
    "\n",
    "def mean(num_list):\n",
    "    return sum(num_list)/len(num_list)\n",
    "\n",
    "# def mean_2(num_list):\n",
    "#    sum_value = 0\n",
    "#    for i in num_list:\n",
    "#        sum_value = sum_value + i\n",
    "#    return sum_value / len(num_list)\n",
    "\n",
    "def median(num_list):\n",
    "    num_list.sort()\n",
    "    if len(num_list) % 2 == 1:\n",
    "        i = (len(num_list) + 1) // 2\n",
    "        return num_list[i - 1]\n",
    "    else:\n",
    "        i = len(num_list) // 2\n",
    "        return (num_list[i] + num_list[i-1]) / 2\n",
    "        #return (num_list[(i - 1) : i+ 1 ])\n",
    "        \n",
    "def dev(num_list):    # 편차\n",
    "    m = mean(num_list)\n",
    "    return [x - m for x in num_list]\n",
    "\n",
    "def ver(num_list):    # 분산\n",
    "    n = len(num_list)\n",
    "    d = dev(num_list)\n",
    "    return sum([x * x for x in d]) / (n - 1)\n",
    "    \n",
    "def stdev(num_list):  # 표준편차\n",
    "    return math.sqrt(ver(num_list))\n",
    "    \n",
    "game1 = csv_data[0]\n",
    "print(game1)\n",
    "print(mean(game1))\n",
    "print(mean_2(game1))\n",
    "print(game1.sort())\n",
    "print(game1)\n",
    "print(game1[3])\n",
    "print(median(game1))\n",
    "print(median([5, 17, 26, 27, 35, 38]))\n",
    "\n",
    "assert median([1, 5, 17, 26, 27, 35, 38]) == 26\n",
    "\n",
    "print(dev(game1))\n",
    "print(ver(game1))\n",
    "print(stdev(game1))"
   ]
  },
  {
   "cell_type": "code",
   "execution_count": 77,
   "id": "60edf59b",
   "metadata": {},
   "outputs": [
    {
     "name": "stdout",
     "output_type": "stream",
     "text": [
      "list_a:  [5, 17, 26, 27, 35, 38, 1]\n",
      "list_b:  [5, 17, 26, 27, 35, 38, 1]\n",
      "list_a:  [100, 17, 26, 27, 35, 38, 1]\n",
      "list_b:  [100, 17, 26, 27, 35, 38, 1]\n",
      "list_a:  [1, 5, 17, 26, 27, 35, 38]\n",
      "list_b:  []\n",
      "list_a:  [100, 5, 17, 26, 27, 35, 38]\n",
      "list_b:  []\n"
     ]
    }
   ],
   "source": [
    "# in-place\n",
    "list_a = [5, 17, 26, 27, 35, 38, 1]\n",
    "list_b = list_a\n",
    "print('list_a: ', list_a)\n",
    "print('list_b: ', list_b)\n",
    "list_a[0] = 100\n",
    "print('list_a: ', list_a)\n",
    "print('list_b: ', list_b)\n",
    "\n",
    "list_a = [1, 5, 17, 26, 27, 35, 38]\n",
    "list_b = []\n",
    "print('list_a: ', list_a)\n",
    "print('list_b: ', list_b)\n",
    "list_a[0] = 100\n",
    "print('list_a: ', list_a)\n",
    "print('list_b: ', list_b)"
   ]
  },
  {
   "cell_type": "code",
   "execution_count": 78,
   "id": "4e218c57",
   "metadata": {},
   "outputs": [
    {
     "name": "stdout",
     "output_type": "stream",
     "text": [
      "[1, 5, 17, 26, 27, 35, 38]\n",
      "after sorted:  [5, 17, 26, 27, 35, 38, 1]\n",
      "[1, 5, 17, 26, 27, 35, 38]\n"
     ]
    }
   ],
   "source": [
    "# in-place\n",
    "list_a = [5, 17, 26, 27, 35, 38, 1]\n",
    "print(sorted(list_a))\n",
    "print('after sorted: ', list_a)\n",
    "\n",
    "list_a.sort()\n",
    "print(list_a)"
   ]
  }
 ],
 "metadata": {
  "kernelspec": {
   "display_name": "Python 3 (ipykernel)",
   "language": "python",
   "name": "python3"
  },
  "language_info": {
   "codemirror_mode": {
    "name": "ipython",
    "version": 3
   },
   "file_extension": ".py",
   "mimetype": "text/x-python",
   "name": "python",
   "nbconvert_exporter": "python",
   "pygments_lexer": "ipython3",
   "version": "3.10.9"
  }
 },
 "nbformat": 4,
 "nbformat_minor": 5
}
