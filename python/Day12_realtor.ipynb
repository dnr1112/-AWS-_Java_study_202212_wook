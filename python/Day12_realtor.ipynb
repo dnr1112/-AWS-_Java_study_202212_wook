{
 "cells": [
  {
   "cell_type": "code",
   "execution_count": 68,
   "id": "4813bac6",
   "metadata": {},
   "outputs": [],
   "source": [
    "import numpy as np\n",
    "import math\n",
    "\n",
    "def my_split(s):\n",
    "    block_start = False\n",
    "    start_index = 0\n",
    "    ret_list=[]\n",
    "    for i, c in enumerate(s):\n",
    "        if block_start==False:\n",
    "            if c==',':\n",
    "                ret_list.append(s[start_index:i])\n",
    "                start_index=i+1\n",
    "            elif c=='\"':\n",
    "                block_start=True\n",
    "                start_index = i\n",
    "        else:\n",
    "            if c=='\"':\n",
    "                block_start=False\n",
    "    if s[-1]!=',':\n",
    "        ret_list.append(s[start_index:])\n",
    "    return ret_list\n",
    "\n",
    "def only_name(s):\n",
    "    remove_after = ['공인중개사']\n",
    "    for c in remove_after:\n",
    "        if c in s:\n",
    "            s = s[:s.index(c)]\n",
    "            \n",
    "    return s"
   ]
  },
  {
   "cell_type": "code",
   "execution_count": 69,
   "id": "673df38a",
   "metadata": {},
   "outputs": [
    {
     "name": "stdout",
     "output_type": "stream",
     "text": [
      "[['중개사무소명', '개설등록번호', '개업공인중개사종별구분', '소재지도로명주소', '소재지지번주소', '전화번호', '개설등록일자', '공제가입유무', '대표자명', '위도', '경도', '중개보조원수', '소속공인중개사수', '홈페이지주소', '데이터기준일자', '제공기관코드', '제공기관명\\n'], ['제일공인중개사사무소', '26710-2015-00005', '공인중개사', '부산광역시 기장군 정관읍 구연로 26', '', '', '2015-01-07', 'Y', '송미경', '', '', '', '', '', '2022-11-25', '3400000', '부산광역시 기장군\\n'], ['늘채움부동산공인중개사사무소', '26710-2015-00013', '공인중개사', '\"부산광역시 기장군 기장읍 차성남로 91, 1층 일부\"', '', '', '2015-01-21', 'Y', '강경미', '', '', '', '', '', '2022-11-25', '3400000', '부산광역시 기장군\\n']]\n"
     ]
    }
   ],
   "source": [
    "csv_data = []\n",
    "with open('전국공인중개사사무소표준데이터.csv', encoding = 'cp949') as f:\n",
    "    for line in f:\n",
    "        csv_data.append(my_split(line))\n",
    "print(csv_data[:3])"
   ]
  },
  {
   "cell_type": "code",
   "execution_count": 70,
   "id": "c50a8b36",
   "metadata": {},
   "outputs": [
    {
     "name": "stdout",
     "output_type": "stream",
     "text": [
      "비율: 공인중개사: 80.89141611903707 개인공업중개사: 19.10858388096292\n"
     ]
    }
   ],
   "source": [
    "list1 = []\n",
    "for i in csv_data[1:]:\n",
    "    list1.append(i[2])\n",
    "\n",
    "list1_a = []\n",
    "list1_b = []\n",
    "for i in list1:\n",
    "    if i == '공인중개사':\n",
    "        list1_a.append(i)\n",
    "    else:\n",
    "        list1_b.append(i)\n",
    "# print(len(list1_a))\n",
    "# print(len(list1_b))\n",
    "print('비율: 공인중개사:', 100*len(list1_a)/(len(list1_a) + len(list1_b)), '개인공업중개사:', 100*len(list1_b)/(len(list1_a) + len(list1_b)))"
   ]
  },
  {
   "cell_type": "code",
   "execution_count": 71,
   "id": "a6527a59",
   "metadata": {},
   "outputs": [
    {
     "name": "stdout",
     "output_type": "stream",
     "text": [
      "공재미가입 중개사:  30\n",
      "전체대비 비율:  0.10214852395382887\n"
     ]
    }
   ],
   "source": [
    "list2 = []\n",
    "for i in csv_data[1:]:\n",
    "    list2.append(i[7])\n",
    "print('공재미가입 중개사: ', list2.count('N'))\n",
    "print('전체대비 비율: ', 100*(list2.count('N'))/len(list2))"
   ]
  },
  {
   "cell_type": "code",
   "execution_count": 72,
   "id": "58014e47",
   "metadata": {},
   "outputs": [
    {
     "name": "stdout",
     "output_type": "stream",
     "text": [
      "['제일공인중개사사무소', '늘채움부동산공인중개사사무소', '해부동산공인중개사사무소', '동부산오시리아명성부동산공인중개사사무소', 'OK부동산공인중개사사무소', '신태양공인중개사사무소', '롯데황금공인중개사사무소', '삼보공인중개사사무소', '알뜰부동산공인중개사사무소', '드림공인중개사사무소']\n"
     ]
    }
   ],
   "source": [
    "list3 = []\n",
    "for i in csv_data[1:]:\n",
    "    list3.append(i[0])\n",
    "print(list3[:10])"
   ]
  },
  {
   "cell_type": "code",
   "execution_count": 73,
   "id": "11725511",
   "metadata": {
    "scrolled": true
   },
   "outputs": [
    {
     "name": "stdout",
     "output_type": "stream",
     "text": [
      "[]\n"
     ]
    }
   ],
   "source": [
    "list3_name1 = []\n",
    "list3_name2 = []\n",
    "for i in list3:\n",
    "    try:\n",
    "        list3_name1.append(only_name(i))\n",
    "    except:\n",
    "        list3_name2.append(i)\n",
    "set_name1 = set(list3_name1)\n",
    "print(list3_name2)\n",
    "set_name2 = set(list3_name2)\n",
    "\n",
    "list_a = []\n",
    "list_a_count = []\n",
    "for i in set_name1:\n",
    "    if list3_name1.count(i) > 10:\n",
    "        list_a.append(i)\n",
    "        list_a_count.append(list3_name1.count(i))\n",
    "        dict_frequency = dict(zip(list_a, list_a_count))\n",
    "#print(dict_frequency)\n",
    "        \n",
    "\n",
    "\n",
    "        \n",
    "\n"
   ]
  },
  {
   "cell_type": "code",
   "execution_count": null,
   "id": "150f72a7",
   "metadata": {},
   "outputs": [],
   "source": []
  }
 ],
 "metadata": {
  "kernelspec": {
   "display_name": "Python 3 (ipykernel)",
   "language": "python",
   "name": "python3"
  },
  "language_info": {
   "codemirror_mode": {
    "name": "ipython",
    "version": 3
   },
   "file_extension": ".py",
   "mimetype": "text/x-python",
   "name": "python",
   "nbconvert_exporter": "python",
   "pygments_lexer": "ipython3",
   "version": "3.10.9"
  }
 },
 "nbformat": 4,
 "nbformat_minor": 5
}
