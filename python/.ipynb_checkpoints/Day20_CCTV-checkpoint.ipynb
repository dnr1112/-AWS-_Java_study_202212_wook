{
 "cells": [
  {
   "cell_type": "markdown",
   "id": "fba5b3a2",
   "metadata": {},
   "source": [
    "### 전국어린이보호구역표준데이터\n",
    "- 시설 종류별 CCTV 설치 여부 카운트 / 대수\n",
    "- 광역시도별, 시설종류별 카운트\n",
    "- 관할경찰서별 CCTV 관리대수\n",
    "- CCTV 평균 설치대수\n",
    "- 도로폭 / CCTV 설치대수 상관도"
   ]
  },
  {
   "cell_type": "code",
   "execution_count": 12,
   "id": "7ee95117",
   "metadata": {},
   "outputs": [],
   "source": [
    "import numpy as np\n",
    "import pandas as pd\n",
    "import matplotlib.pyplot as plt\n",
    "\n",
    "pd_rawdata = pd.read_csv('전국어린이보호구역표준데이터.csv', encoding = 'cp949')\n",
    "# EDA : Exploratory Data Analysis\n",
    "column_selection = ['시설종류', '관할경찰서명', 'CCTV설치여부', 'CCTV설치대수', '제공기관명']\n",
    "# print(pd_rawdata.columns)\n",
    "pd_data = pd_rawdata[column_selection]\n",
    "del pd_rawdata"
   ]
  },
  {
   "cell_type": "code",
   "execution_count": 20,
   "id": "121a42ad",
   "metadata": {
    "scrolled": true
   },
   "outputs": [
    {
     "name": "stdout",
     "output_type": "stream",
     "text": [
      "(15056, 5)\n"
     ]
    },
    {
     "data": {
      "text/html": [
       "<div>\n",
       "<style scoped>\n",
       "    .dataframe tbody tr th:only-of-type {\n",
       "        vertical-align: middle;\n",
       "    }\n",
       "\n",
       "    .dataframe tbody tr th {\n",
       "        vertical-align: top;\n",
       "    }\n",
       "\n",
       "    .dataframe thead th {\n",
       "        text-align: right;\n",
       "    }\n",
       "</style>\n",
       "<table border=\"1\" class=\"dataframe\">\n",
       "  <thead>\n",
       "    <tr style=\"text-align: right;\">\n",
       "      <th></th>\n",
       "      <th>시설종류</th>\n",
       "      <th>관할경찰서명</th>\n",
       "      <th>CCTV설치여부</th>\n",
       "      <th>CCTV설치대수</th>\n",
       "      <th>제공기관명</th>\n",
       "    </tr>\n",
       "  </thead>\n",
       "  <tbody>\n",
       "    <tr>\n",
       "      <th>count</th>\n",
       "      <td>15056</td>\n",
       "      <td>15056</td>\n",
       "      <td>15056</td>\n",
       "      <td>11682.000000</td>\n",
       "      <td>15056</td>\n",
       "    </tr>\n",
       "    <tr>\n",
       "      <th>unique</th>\n",
       "      <td>10</td>\n",
       "      <td>262</td>\n",
       "      <td>2</td>\n",
       "      <td>NaN</td>\n",
       "      <td>225</td>\n",
       "    </tr>\n",
       "    <tr>\n",
       "      <th>top</th>\n",
       "      <td>초등학교</td>\n",
       "      <td>서부경찰서</td>\n",
       "      <td>Y</td>\n",
       "      <td>NaN</td>\n",
       "      <td>경상남도</td>\n",
       "    </tr>\n",
       "    <tr>\n",
       "      <th>freq</th>\n",
       "      <td>6965</td>\n",
       "      <td>299</td>\n",
       "      <td>11687</td>\n",
       "      <td>NaN</td>\n",
       "      <td>759</td>\n",
       "    </tr>\n",
       "    <tr>\n",
       "      <th>mean</th>\n",
       "      <td>NaN</td>\n",
       "      <td>NaN</td>\n",
       "      <td>NaN</td>\n",
       "      <td>2.586543</td>\n",
       "      <td>NaN</td>\n",
       "    </tr>\n",
       "    <tr>\n",
       "      <th>std</th>\n",
       "      <td>NaN</td>\n",
       "      <td>NaN</td>\n",
       "      <td>NaN</td>\n",
       "      <td>2.937831</td>\n",
       "      <td>NaN</td>\n",
       "    </tr>\n",
       "    <tr>\n",
       "      <th>min</th>\n",
       "      <td>NaN</td>\n",
       "      <td>NaN</td>\n",
       "      <td>NaN</td>\n",
       "      <td>0.000000</td>\n",
       "      <td>NaN</td>\n",
       "    </tr>\n",
       "    <tr>\n",
       "      <th>25%</th>\n",
       "      <td>NaN</td>\n",
       "      <td>NaN</td>\n",
       "      <td>NaN</td>\n",
       "      <td>1.000000</td>\n",
       "      <td>NaN</td>\n",
       "    </tr>\n",
       "    <tr>\n",
       "      <th>50%</th>\n",
       "      <td>NaN</td>\n",
       "      <td>NaN</td>\n",
       "      <td>NaN</td>\n",
       "      <td>2.000000</td>\n",
       "      <td>NaN</td>\n",
       "    </tr>\n",
       "    <tr>\n",
       "      <th>75%</th>\n",
       "      <td>NaN</td>\n",
       "      <td>NaN</td>\n",
       "      <td>NaN</td>\n",
       "      <td>3.000000</td>\n",
       "      <td>NaN</td>\n",
       "    </tr>\n",
       "    <tr>\n",
       "      <th>max</th>\n",
       "      <td>NaN</td>\n",
       "      <td>NaN</td>\n",
       "      <td>NaN</td>\n",
       "      <td>46.000000</td>\n",
       "      <td>NaN</td>\n",
       "    </tr>\n",
       "  </tbody>\n",
       "</table>\n",
       "</div>"
      ],
      "text/plain": [
       "         시설종류 관할경찰서명 CCTV설치여부      CCTV설치대수  제공기관명\n",
       "count   15056  15056    15056  11682.000000  15056\n",
       "unique     10    262        2           NaN    225\n",
       "top      초등학교  서부경찰서        Y           NaN   경상남도\n",
       "freq     6965    299    11687           NaN    759\n",
       "mean      NaN    NaN      NaN      2.586543    NaN\n",
       "std       NaN    NaN      NaN      2.937831    NaN\n",
       "min       NaN    NaN      NaN      0.000000    NaN\n",
       "25%       NaN    NaN      NaN      1.000000    NaN\n",
       "50%       NaN    NaN      NaN      2.000000    NaN\n",
       "75%       NaN    NaN      NaN      3.000000    NaN\n",
       "max       NaN    NaN      NaN     46.000000    NaN"
      ]
     },
     "execution_count": 20,
     "metadata": {},
     "output_type": "execute_result"
    }
   ],
   "source": [
    "# print(pd_data.columns)\n",
    "# print(pd_data.dtypes)\n",
    "pd_data['시설종류'] = pd_data['시설종류'].astype('category')\n",
    "pd_data['CCTV설치여부'] = pd_data['CCTV설치여부'].astype('category')\n",
    "print(pd_data.shape)\n",
    "pd_data.describe(include = 'all')"
   ]
  },
  {
   "cell_type": "code",
   "execution_count": 22,
   "id": "8682b34a",
   "metadata": {},
   "outputs": [
    {
     "name": "stdout",
     "output_type": "stream",
     "text": [
      "시설종류 False\n",
      "관할경찰서명 False\n",
      "CCTV설치여부 False\n",
      "CCTV설치대수 True\n",
      "False    11682\n",
      "True      3374\n",
      "Name: CCTV설치대수, dtype: int64\n",
      "제공기관명 False\n"
     ]
    }
   ],
   "source": [
    "# 결측지 확인\n",
    "\n",
    "# print(pd_data.shape)\n",
    "# print(pd_data.describe(include = 'all'))\n",
    "\n",
    "for e in pd_data:\n",
    "    print(e, pd_data[e].hasnans)\n",
    "    if pd_data[e].hasnans:\n",
    "        print(pd_data[e].isna().value_counts())"
   ]
  },
  {
   "cell_type": "code",
   "execution_count": null,
   "id": "9e407352",
   "metadata": {},
   "outputs": [],
   "source": [
    "def myfn1(x):\n",
    "    if type(x) == type(' '):\n",
    "        if '~' in x:\n",
    "            m = np.array(x.split('~')).mean()\n",
    "            return str(m)\n",
    "    if x == np.NaN:\n",
    "        return x\n",
    "    elif type(x) == type(1.0):\n",
    "        return x\n",
    "\n",
    "pd_data['보호구역도로폭'].apply(myfn1)\n",
    "print(pd_data)\n",
    "            "
   ]
  }
 ],
 "metadata": {
  "kernelspec": {
   "display_name": "Python 3 (ipykernel)",
   "language": "python",
   "name": "python3"
  },
  "language_info": {
   "codemirror_mode": {
    "name": "ipython",
    "version": 3
   },
   "file_extension": ".py",
   "mimetype": "text/x-python",
   "name": "python",
   "nbconvert_exporter": "python",
   "pygments_lexer": "ipython3",
   "version": "3.10.9"
  }
 },
 "nbformat": 4,
 "nbformat_minor": 5
}
