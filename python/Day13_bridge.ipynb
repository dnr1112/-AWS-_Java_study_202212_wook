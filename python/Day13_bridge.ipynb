{
 "cells": [
  {
   "cell_type": "code",
   "execution_count": 28,
   "id": "fccd10cf",
   "metadata": {},
   "outputs": [],
   "source": [
    "import numpy as np\n",
    "import math\n",
    "\n",
    "def my_split(s):\n",
    "    block_start = False\n",
    "    start_index = 0\n",
    "    ret_list=[]\n",
    "    for i, c in enumerate(s):\n",
    "        if block_start==False:\n",
    "            if c==',':\n",
    "                ret_list.append(s[start_index:i])\n",
    "                start_index=i+1\n",
    "            elif c=='\"':\n",
    "                block_start=True\n",
    "                start_index = i\n",
    "        else:\n",
    "            if c=='\"':\n",
    "                block_start=False\n",
    "    if s[-1]!=',':\n",
    "        ret_list.append(s[start_index:])\n",
    "    return ret_list\n",
    "\n",
    "def split_len(data_list):\n",
    "    len_list=[]\n",
    "    for e in data_list:\n",
    "        len_list.append(len(e))\n",
    "    print(set(len_list))\n",
    "    if len(set(len_list))>1:\n",
    "        for i in set(len_list):\n",
    "            print(i, len_list.count(i))\n",
    "    return set(len_list)\n",
    "\n",
    "def only_year(s):\n",
    "    remove_after = ['-']\n",
    "    for c in remove_after:\n",
    "        if c in s:\n",
    "            s = s[:s.index(c)]\n",
    "            \n",
    "    return s"
   ]
  },
  {
   "cell_type": "code",
   "execution_count": 15,
   "id": "fb0bcd4d",
   "metadata": {},
   "outputs": [
    {
     "name": "stdout",
     "output_type": "stream",
     "text": [
      "{30}\n",
      "(0, '육교명')\n",
      "(1, '도로종류')\n",
      "(2, '도로노선번호')\n",
      "(3, '도로노선명')\n",
      "(4, '소재지도로명주소')\n",
      "(5, '위도')\n",
      "(6, '경도')\n",
      "(7, '육교연장')\n",
      "(8, '육교높이')\n",
      "(9, '허용통행하중')\n",
      "(10, '통행제한높이')\n",
      "(11, '육교폭')\n",
      "(12, '난간높이')\n",
      "(13, '조명개수')\n",
      "(14, '장애인편의시설설치여부')\n",
      "(15, '장애인편의시설종류')\n",
      "(16, '장애인편의시설수량')\n",
      "(17, '부대시설종류')\n",
      "(18, '부대시설수량')\n",
      "(19, '육교준공일자')\n",
      "(20, '내진설계적용여부')\n",
      "(21, '안전등급')\n",
      "(22, '사용제한구분')\n",
      "(23, '육교보수보강내역')\n",
      "(24, '최종안전점검유형')\n",
      "(25, '최종안전점검일자')\n",
      "(26, '관리기관명')\n",
      "(27, '데이터기준일자')\n",
      "(28, '제공기관코드')\n",
      "(29, '제공기관명')\n"
     ]
    }
   ],
   "source": [
    "csv_data = []\n",
    "with open('전국육교정보표준데이터.csv') as f:\n",
    "    for line in f:\n",
    "        csv_data.append(my_split(line[:-1]))\n",
    "        \n",
    "assert len(split_len(csv_data)) == 1\n",
    "\n",
    "np_data = np.array(csv_data)\n",
    "for e in enumerate(np_data[0]):\n",
    "    print(e)"
   ]
  },
  {
   "cell_type": "code",
   "execution_count": 23,
   "id": "2001a2da",
   "metadata": {},
   "outputs": [
    {
     "name": "stdout",
     "output_type": "stream",
     "text": [
      "내진설계 O:  166\n",
      "내진설계 X:  695\n"
     ]
    }
   ],
   "source": [
    "# 내진설계된 육교 퍼센트\n",
    "Yes_bridge = []\n",
    "No_bridge = []\n",
    "for i in np_data[1:, 20]:\n",
    "    if i == 'N':\n",
    "        No_bridge.append(i)\n",
    "    elif i == 'Y':\n",
    "        Yes_bridge.append(i)\n",
    "    else:\n",
    "        pass\n",
    "print('내진설계 O: ', len(Yes_bridge))\n",
    "print('내진설계 X: ', len(No_bridge))"
   ]
  },
  {
   "cell_type": "code",
   "execution_count": 26,
   "id": "d60e4d88",
   "metadata": {},
   "outputs": [
    {
     "name": "stdout",
     "output_type": "stream",
     "text": [
      "미흡:  25\n",
      "보통:  390\n",
      "불량:  1\n",
      "양호:  795\n",
      "우수:  7\n"
     ]
    }
   ],
   "source": [
    "# 안전등급 별 육교 개수, 비율\n",
    "미흡_list = []\n",
    "보통_list = []\n",
    "불량_list = []\n",
    "양호_list = []\n",
    "우수_list = []\n",
    "for i in np_data[1:, 21]:\n",
    "    if i == '미흡':\n",
    "        미흡_list.append(i)\n",
    "    elif i == '보통':\n",
    "        보통_list.append(i)\n",
    "    elif i == '불량':\n",
    "        불량_list.append(i)\n",
    "    elif i == '양호':\n",
    "        양호_list.append(i)\n",
    "    elif i == '우수':\n",
    "        우수_list.append(i)\n",
    "    else:\n",
    "        pass\n",
    "print('미흡: ', len(미흡_list))\n",
    "print('보통: ', len(보통_list))\n",
    "print('불량: ', len(불량_list))\n",
    "print('양호: ', len(양호_list))\n",
    "print('우수: ', len(우수_list))"
   ]
  },
  {
   "cell_type": "code",
   "execution_count": 42,
   "id": "f8346a65",
   "metadata": {
    "scrolled": true
   },
   "outputs": [
    {
     "name": "stdout",
     "output_type": "stream",
     "text": [
      "연도:  2010  // 개수: 18\n",
      "연도:  2013  // 개수: 9\n",
      "연도:  1988  // 개수: 3\n",
      "연도:  1986  // 개수: 8\n",
      "연도:  2005  // 개수: 21\n",
      "연도:  2011  // 개수: 16\n",
      "연도:  2003  // 개수: 17\n",
      "연도:  2018  // 개수: 7\n",
      "연도:  1993  // 개수: 21\n",
      "연도:  1999  // 개수: 9\n",
      "연도:  1987  // 개수: 2\n",
      "연도:  1970  // 개수: 1\n",
      "연도:  2017  // 개수: 4\n",
      "연도:  1978  // 개수: 1\n",
      "연도:  2001  // 개수: 13\n",
      "연도:  1994  // 개수: 11\n",
      "연도:  2022  // 개수: 3\n",
      "연도:  1998  // 개수: 15\n",
      "연도:  2016  // 개수: 15\n",
      "연도:  1977  // 개수: 1\n",
      "연도:  2006  // 개수: 26\n",
      "연도:  2015  // 개수: 9\n",
      "연도:  1996  // 개수: 17\n",
      "연도:  2009  // 개수: 29\n",
      "연도:  1995  // 개수: 7\n",
      "연도:  2020  // 개수: 5\n",
      "연도:  2000  // 개수: 10\n",
      "연도:  2007  // 개수: 18\n",
      "연도:  1992  // 개수: 19\n",
      "연도:  1989  // 개수: 4\n",
      "연도:  2002  // 개수: 14\n",
      "연도:  2012  // 개수: 23\n",
      "연도:  2008  // 개수: 28\n",
      "연도:  2019  // 개수: 3\n",
      "연도:  1997  // 개수: 24\n",
      "연도:  2004  // 개수: 17\n",
      "연도:  1974  // 개수: 1\n",
      "연도:  2014  // 개수: 7\n",
      "연도:  1991  // 개수: 2\n",
      "연도:  2021  // 개수: 1\n",
      "연도:  1980  // 개수: 1\n"
     ]
    }
   ],
   "source": [
    "# 육교가 만들어진 연도 vs 장애인편의시설 간 상관관계\n",
    "years_list = []\n",
    "for i in np_data[1:]:\n",
    "    if i[14] == 'Y':\n",
    "        years_list.append(i[19])\n",
    "# print(years_list)\n",
    "years_list2 = []\n",
    "for i in years_list:\n",
    "    sub_arr = i.split()\n",
    "    years_list2.extend(sub_arr)\n",
    "# print(years_list2)\n",
    "\n",
    "only_years_list = []\n",
    "\n",
    "for i in years_list2:\n",
    "    only_years_list.append(only_year(i))\n",
    "only_years_set = set(only_years_list)\n",
    "\n",
    "for i in only_years_set:\n",
    "    print('연도: ', i, ' // 개수:', only_years_list.count(i))\n"
   ]
  },
  {
   "cell_type": "code",
   "execution_count": 10,
   "id": "0ecb37cf",
   "metadata": {},
   "outputs": [],
   "source": [
    "# 육교 연장 - 최대, 최소, 평균, 표준편차\n",
    "for i in np_data[1:]:\n",
    "    "
   ]
  },
  {
   "cell_type": "code",
   "execution_count": 11,
   "id": "2713f792",
   "metadata": {},
   "outputs": [],
   "source": [
    "# 허용 통행하중 - 최대, 최소, 평균, 표준편차"
   ]
  },
  {
   "cell_type": "code",
   "execution_count": 12,
   "id": "c7cb6d00",
   "metadata": {},
   "outputs": [],
   "source": [
    "# 통행제한 높이 - 최대, 최소, 평균, 표준편차"
   ]
  },
  {
   "cell_type": "code",
   "execution_count": null,
   "id": "ee78088c",
   "metadata": {},
   "outputs": [],
   "source": []
  }
 ],
 "metadata": {
  "kernelspec": {
   "display_name": "Python 3 (ipykernel)",
   "language": "python",
   "name": "python3"
  },
  "language_info": {
   "codemirror_mode": {
    "name": "ipython",
    "version": 3
   },
   "file_extension": ".py",
   "mimetype": "text/x-python",
   "name": "python",
   "nbconvert_exporter": "python",
   "pygments_lexer": "ipython3",
   "version": "3.10.9"
  }
 },
 "nbformat": 4,
 "nbformat_minor": 5
}
