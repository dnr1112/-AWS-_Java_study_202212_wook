{
 "cells": [
  {
   "cell_type": "code",
   "execution_count": 3,
   "id": "b2e23a76",
   "metadata": {},
   "outputs": [
    {
     "name": "stdout",
     "output_type": "stream",
     "text": [
      "[[ 1  2  3]\n",
      " [10 20 30]]\n",
      "2\n",
      "(2, 3)\n",
      "6\n"
     ]
    }
   ],
   "source": [
    "import numpy as np\n",
    "\n",
    "a1 = np.array([[1, 2, 3], [10, 20, 30]])\n",
    "print(a1)\n",
    "print(a1.ndim)\n",
    "print(a1.shape)\n",
    "print(a1.size)"
   ]
  },
  {
   "cell_type": "code",
   "execution_count": 24,
   "id": "d1231df9",
   "metadata": {},
   "outputs": [
    {
     "name": "stdout",
     "output_type": "stream",
     "text": [
      "[[ 0  1  2  3  4]\n",
      " [ 5  6  7  8  9]\n",
      " [10 11 12 13 14]\n",
      " [15 16 17 18 19]]\n",
      "(4, 5)\n"
     ]
    }
   ],
   "source": [
    "a2 = np.arange(20).reshape(4, 5)\n",
    "print(a2)\n",
    "print(a2.shape)\n"
   ]
  },
  {
   "cell_type": "code",
   "execution_count": 26,
   "id": "a572a43b",
   "metadata": {},
   "outputs": [
    {
     "name": "stdout",
     "output_type": "stream",
     "text": [
      "[[  0   1   2 200   4]\n",
      " [  5   6   7   8   9]\n",
      " [ 10  11  12  13  14]\n",
      " [ 15  16  17  18  19]]\n",
      "[  0   1   2 100   4   5   6   7   8   9  10  11  12  13  14  15  16  17\n",
      "  18  19]\n",
      "[[  0   1   2 200   4]\n",
      " [  5   6   7   8   9]\n",
      " [ 10  11  12  13  14]\n",
      " [ 15  16  17  18  19]]\n",
      "[  0   1   2 200   4   5   6   7   8   9  10  11  12  13  14  15  16  17\n",
      "  18  19]\n",
      "[[  0   1   2 200   4]\n",
      " [  5   6   7   8   9]\n",
      " [ 10  11  12  13  14]\n",
      " [ 15  16  17  18  19]]\n"
     ]
    }
   ],
   "source": [
    "print(a2)\n",
    "\n",
    "a3 = a2.flatten()         # 본래 배열엔 영향이 없음\n",
    "a3[3] = 100\n",
    "print(a3)\n",
    "print(a2)\n",
    "\n",
    "a4 = a2.ravel()           # 본래 배열 인덱스도 바꿔버림\n",
    "a4[3] = 200\n",
    "print(a4)\n",
    "print(a2)"
   ]
  },
  {
   "cell_type": "code",
   "execution_count": 27,
   "id": "b7f88139",
   "metadata": {},
   "outputs": [
    {
     "name": "stdout",
     "output_type": "stream",
     "text": [
      "[[ 0  1  2  3  4]\n",
      " [ 5  6  7  8  9]\n",
      " [10 11 12 13 14]\n",
      " [15 16 17 18 19]]\n",
      "[[ 1  2  3]\n",
      " [ 6  7  8]\n",
      " [11 12 13]\n",
      " [16 17 18]]\n",
      "[[ 1  3]\n",
      " [ 6  8]\n",
      " [11 13]\n",
      " [16 18]]\n",
      "[[ 5  6  7  8  9]\n",
      " [10 11 12 13 14]]\n",
      "[[ 0  1  2  3  4]\n",
      " [10 11 12 13 14]]\n",
      "[[ 1  2  3]\n",
      " [11 12 13]]\n"
     ]
    }
   ],
   "source": [
    "a2 = np.arange(20).reshape(4, 5)\n",
    "print(a2)\n",
    "# print(a2.shape)\n",
    "# print(a2[1])\n",
    "# print(a2[1, 2])\n",
    "# print(a2[:, 1])\n",
    "print(a2[:, 1:4])\n",
    "print(a2[:, 1:4:2])\n",
    "print(a2[1:3, :])\n",
    "print(a2[::2, :])\n",
    "print(a2[::2, 1:4])"
   ]
  },
  {
   "cell_type": "code",
   "execution_count": 29,
   "id": "72d83d21",
   "metadata": {},
   "outputs": [
    {
     "name": "stdout",
     "output_type": "stream",
     "text": [
      "[[ 0  1  2  3  4]\n",
      " [ 5  6  7  8  9]\n",
      " [10 11 12 13 14]\n",
      " [15 16 17 18 19]]\n",
      "(4, 5)\n"
     ]
    }
   ],
   "source": [
    "print(a2)\n",
    "print(a2.shape)      # aixs"
   ]
  }
 ],
 "metadata": {
  "kernelspec": {
   "display_name": "Python 3 (ipykernel)",
   "language": "python",
   "name": "python3"
  },
  "language_info": {
   "codemirror_mode": {
    "name": "ipython",
    "version": 3
   },
   "file_extension": ".py",
   "mimetype": "text/x-python",
   "name": "python",
   "nbconvert_exporter": "python",
   "pygments_lexer": "ipython3",
   "version": "3.10.9"
  }
 },
 "nbformat": 4,
 "nbformat_minor": 5
}
