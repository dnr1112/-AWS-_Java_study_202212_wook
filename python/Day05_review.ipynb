{
 "cells": [
  {
   "cell_type": "code",
   "execution_count": 31,
   "id": "52e5a20b",
   "metadata": {},
   "outputs": [
    {
     "name": "stdout",
     "output_type": "stream",
     "text": [
      "10.5\n",
      "datatype: list\n",
      "{'x': 10, 'y': 20, 'z': 30}\n",
      "10\n",
      "10\n",
      "{'x': 10, 'y': 50, 'z': 30}\n",
      "{'x': 10, 'y': 50, 'z': 30, 'newkey': 1234}\n",
      "dict_keys(['x', 'y', 'z', 'newkey'])\n",
      "dict_values([10, 50, 30, 1234])\n",
      "dict_items([('x', 10), ('y', 50), ('z', 30), ('newkey', 1234)])\n",
      "x 10\n",
      "y 50\n",
      "z 30\n",
      "newkey 1234\n"
     ]
    }
   ],
   "source": [
    "# int(), float(). bool(), str()\n",
    "\n",
    "try:\n",
    "    a = [20.5, '10.5']\n",
    "    for i in a:\n",
    "        int(i)\n",
    "except:\n",
    "    print(i)\n",
    "\n",
    "a = [20.5, '10.5']\n",
    "if isinstance(a, type([])):\n",
    "    print('datatype: list')\n",
    "elif isinstance(a, type('')):\n",
    "    print('datatype: str')\n",
    "    \n",
    "# list, tuple, set, dictionary\n",
    "dict1 = {'a':1, 'b':2, 'c':3}\n",
    "\n",
    "key_list = list('xyz')\n",
    "value_list = [10, 20, 30]\n",
    "\n",
    "x = zip(key_list, value_list)    # [('x',10), ('y',20), ('z',30)]\n",
    "dict2 = dict(x)\n",
    "print(dict2)\n",
    "\n",
    "print(dict2['x'])      # 없는 값을 가져오면 에러가 뜸\n",
    "print(dict2.get('x'))\n",
    "\n",
    "dict2['y'] = 50\n",
    "print(dict2)\n",
    "\n",
    "dict2['newkey'] = 1234\n",
    "print(dict2)\n",
    "\n",
    "klist = dict2.keys()\n",
    "vlist = dict2.values()\n",
    "print(klist)\n",
    "print(vlist)\n",
    "print(dict2.items())\n",
    "\n",
    "for e in dict2:    # e는 key값으로 순환\n",
    "    print(e, dict2[e])"
   ]
  },
  {
   "cell_type": "code",
   "execution_count": 9,
   "id": "899efad0",
   "metadata": {},
   "outputs": [
    {
     "name": "stdout",
     "output_type": "stream",
     "text": [
      "True\n"
     ]
    }
   ],
   "source": [
    "# if: - else:\n",
    "# if: - elif: - else:\n",
    "\n",
    "if []:        # [1] 채워져 있는 값이면 True 반환\n",
    "    print('True')\n",
    "else:\n",
    "    print('False') # 0, 비어있는 문자열 / list"
   ]
  },
  {
   "cell_type": "code",
   "execution_count": 37,
   "id": "0c96bab7",
   "metadata": {},
   "outputs": [
    {
     "name": "stdout",
     "output_type": "stream",
     "text": [
      "0 a\n",
      "1 b\n",
      "2 c\n",
      "3 d\n",
      "4 e\n",
      "['a']\n"
     ]
    }
   ],
   "source": [
    "# for - range() / list; enumerate()\n",
    "list_a = list('abcde')\n",
    "for i, c in enumerate(list_a):\n",
    "    print(i, c)\n",
    "\n",
    "# while - 조건\n",
    "while len(list_a) > 1:           # list_a가 1보다 작아질 때까지\n",
    "    list_a.remove(list_a[-1])    # 뒤에서부터 하나씩 없앰\n",
    "print(list_a)"
   ]
  },
  {
   "cell_type": "code",
   "execution_count": 13,
   "id": "2d9ccf6e",
   "metadata": {},
   "outputs": [
    {
     "name": "stdout",
     "output_type": "stream",
     "text": [
      "const\n",
      "==========\n",
      "myclass2\n",
      "==========\n",
      "dest\n"
     ]
    }
   ],
   "source": [
    "# 함수, 클래스\n",
    "def myfunction():\n",
    "    print('myfunction1')\n",
    "\n",
    "class myclass:\n",
    "    def mymethod1(self):\n",
    "        print('mymethod1')\n",
    "\n",
    "class myclass2(myclass):    # 상속\n",
    "    def __init__(self):     # 생성\n",
    "        print('const')\n",
    "        \n",
    "    def __del__(self):\n",
    "        print('dest')\n",
    "        \n",
    "    def __str__(self):\n",
    "        return 'myclass2'\n",
    "x = myclass2()        # __init__ const\n",
    "print('==========')\n",
    "print(x)              # __str__\n",
    "print('==========')\n",
    "del x                 # __del__ dest"
   ]
  },
  {
   "cell_type": "code",
   "execution_count": 17,
   "id": "ba52b5f8",
   "metadata": {},
   "outputs": [],
   "source": [
    "with open('lott.csv') as f:\n",
    "    for line in f:\n",
    "        pass\n",
    "#       print(line)\n",
    "        \n",
    "# file write\n",
    "with open('test.txt', 'w') as f:    # 'w'; mode : 'w'rite / 'r'ead, 'b'inary\n",
    "    for i in range(3,10):           # 'wb' : write binary\n",
    "        f.write('test string {}\\n'.format(i))"
   ]
  },
  {
   "cell_type": "code",
   "execution_count": 21,
   "id": "82289ad4",
   "metadata": {},
   "outputs": [
    {
     "name": "stdout",
     "output_type": "stream",
     "text": [
      "['a', 'b', 'c', 'd']\n"
     ]
    }
   ],
   "source": [
    "import pickle\n",
    "\n",
    "list_a = list('abcd')\n",
    "\n",
    "# write\n",
    "with open('pickle_test.pickle', 'wb') as f:\n",
    "    pickle.dump(list_a, f)\n",
    "    \n",
    "# read\n",
    "with open('pickle_test.pickle', 'rb') as f:\n",
    "    list_b = pickle.load(f)\n",
    "print(list_b)"
   ]
  }
 ],
 "metadata": {
  "kernelspec": {
   "display_name": "Python 3 (ipykernel)",
   "language": "python",
   "name": "python3"
  },
  "language_info": {
   "codemirror_mode": {
    "name": "ipython",
    "version": 3
   },
   "file_extension": ".py",
   "mimetype": "text/x-python",
   "name": "python",
   "nbconvert_exporter": "python",
   "pygments_lexer": "ipython3",
   "version": "3.10.9"
  }
 },
 "nbformat": 4,
 "nbformat_minor": 5
}
