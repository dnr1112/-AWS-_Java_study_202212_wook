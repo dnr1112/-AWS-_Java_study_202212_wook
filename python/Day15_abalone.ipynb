{
 "cells": [
  {
   "cell_type": "markdown",
   "id": "84570b6d",
   "metadata": {},
   "source": [
    "#### UCI 전복\n",
    "\n",
    "https://archive.ics.uci.edu/ml/datasets/Abalone\n",
    "data url: https://archive.ics.uci.edu/ml/machine-learning-databases/abalone/abalone.data\n",
    "\n",
    "1. [함수] requests 패키지를 이용해 데이터 가져와서 ndarray로 변환.\n",
    "\n",
    "2. [함수] 성별이 'M'인 데이터를 필터, Length와 Diameter 간 상관도를 반환\n",
    "\n",
    "3. __name__ 값이 __main__ 이면 1,2함수를 실행, 2번 함수의 반환값을 프린트"
   ]
  },
  {
   "cell_type": "code",
   "execution_count": 4,
   "id": "aee2fa84",
   "metadata": {},
   "outputs": [],
   "source": [
    "import requests\n",
    "import math\n",
    "import numpy as np\n",
    "import scipy from stats\n",
    "\n",
    "x = requests.get('https://archive.ics.uci.edu/ml/machine-learning-databases/abalone/abalone.data')"
   ]
  },
  {
   "cell_type": "code",
   "execution_count": 39,
   "id": "f6737d01",
   "metadata": {},
   "outputs": [
    {
     "name": "stdout",
     "output_type": "stream",
     "text": [
      "[['M' '0.455' '0.365' ... '0.101' '0.15' '15']\n",
      " ['M' '0.35' '0.265' ... '0.0485' '0.07' '7']\n",
      " ['F' '0.53' '0.42' ... '0.1415' '0.21' '9']\n",
      " ...\n",
      " ['M' '0.6' '0.475' ... '0.2875' '0.308' '9']\n",
      " ['F' '0.625' '0.485' ... '0.261' '0.296' '10']\n",
      " ['M' '0.71' '0.555' ... '0.3765' '0.495' '12']]\n"
     ]
    }
   ],
   "source": [
    "raw_data = []\n",
    "for line in x.text.split('\\n'):\n",
    "    raw_data.append(line.split(','))\n",
    "\n",
    "np_data = np.array(raw_data[:-1])\n",
    "\n",
    "print(np_data)"
   ]
  },
  {
   "cell_type": "code",
   "execution_count": 40,
   "id": "36ddb800",
   "metadata": {},
   "outputs": [
    {
     "name": "stdout",
     "output_type": "stream",
     "text": [
      "1528\n"
     ]
    }
   ],
   "source": [
    "np_sex = []\n",
    "for i in np_data:\n",
    "    for e in i[0]:\n",
    "        np_sex.append(e)\n",
    "\n",
    "print(np_sex.count('M'))"
   ]
  },
  {
   "cell_type": "code",
   "execution_count": 41,
   "id": "9e9f90d3",
   "metadata": {},
   "outputs": [
    {
     "name": "stdout",
     "output_type": "stream",
     "text": [
      "4177\n",
      "4177\n"
     ]
    }
   ],
   "source": [
    "np_len = []\n",
    "for i in np_data:\n",
    "    try:\n",
    "        np_len.append(i[1])    \n",
    "    except:\n",
    "        pass\n",
    "print(len(np_len))\n",
    "\n",
    "np_dia = []\n",
    "for i in np_data:\n",
    "    try:\n",
    "        np_dia.append(i[2])\n",
    "    except:\n",
    "        pass\n",
    "# print(dia_list)\n",
    "print(len(np_dia))\n",
    "\n"
   ]
  },
  {
   "cell_type": "code",
   "execution_count": null,
   "id": "62ce9000",
   "metadata": {},
   "outputs": [],
   "source": []
  }
 ],
 "metadata": {
  "kernelspec": {
   "display_name": "Python 3 (ipykernel)",
   "language": "python",
   "name": "python3"
  },
  "language_info": {
   "codemirror_mode": {
    "name": "ipython",
    "version": 3
   },
   "file_extension": ".py",
   "mimetype": "text/x-python",
   "name": "python",
   "nbconvert_exporter": "python",
   "pygments_lexer": "ipython3",
   "version": "3.10.9"
  }
 },
 "nbformat": 4,
 "nbformat_minor": 5
}
