{
 "cells": [
  {
   "cell_type": "markdown",
   "id": "78fef457",
   "metadata": {},
   "source": [
    "# Heading 1\n",
    "\n",
    "## heading2\n",
    "\n",
    "### heading3\n",
    "\n",
    "heading\n",
    "=====\n",
    "\n",
    "heading2\n",
    "-----"
   ]
  },
  {
   "cell_type": "markdown",
   "id": "0b4b04f7",
   "metadata": {},
   "source": [
    "문장1 문장2 문장 3\n",
    "\n",
    "문장4\n",
    "\n",
    "문단x"
   ]
  },
  {
   "cell_type": "markdown",
   "id": "52340fb1",
   "metadata": {},
   "source": [
    "* mathjax\n",
    "\n",
    "$$\n",
    "    \\hat y = x_{i}+\\sum3\n",
    "$$"
   ]
  }
 ],
 "metadata": {
  "kernelspec": {
   "display_name": "Python 3 (ipykernel)",
   "language": "python",
   "name": "python3"
  },
  "language_info": {
   "codemirror_mode": {
    "name": "ipython",
    "version": 3
   },
   "file_extension": ".py",
   "mimetype": "text/x-python",
   "name": "python",
   "nbconvert_exporter": "python",
   "pygments_lexer": "ipython3",
   "version": "3.10.9"
  }
 },
 "nbformat": 4,
 "nbformat_minor": 5
}
