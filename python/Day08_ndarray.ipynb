{
 "cells": [
  {
   "cell_type": "code",
   "execution_count": 6,
   "id": "3dca8970",
   "metadata": {},
   "outputs": [],
   "source": [
    "import numpy as np"
   ]
  },
  {
   "cell_type": "code",
   "execution_count": 9,
   "id": "64de2545",
   "metadata": {},
   "outputs": [
    {
     "name": "stdout",
     "output_type": "stream",
     "text": [
      "[1, 2, 3, 4, 5]\n",
      "[1 2 3 4 5]\n",
      "<class 'numpy.ndarray'>\n"
     ]
    }
   ],
   "source": [
    "a1 = np.array([1, 2, 3, 4, 5])\n",
    "print([1, 2, 3, 4, 5])\n",
    "print(a1)\n",
    "print(type(a1))"
   ]
  },
  {
   "cell_type": "code",
   "execution_count": 21,
   "id": "51af007d",
   "metadata": {},
   "outputs": [
    {
     "name": "stdout",
     "output_type": "stream",
     "text": [
      "[0 1 2 3 4 5 6 7 8 9]\n",
      "[ 3  6  9 12 15 18 21 24 27 30 33 36 39 42 45 48 51 54 57 60 63 66 69 72\n",
      " 75 78 81 84 87 90 93 96 99]\n",
      "[1.3 1.8 2.3 2.8 3.3 3.8 4.3 4.8 5.3 5.8 6.3 6.8 7.3 7.8 8.3 8.8 9.3 9.8]\n"
     ]
    }
   ],
   "source": [
    "a2 = np.arange(10)\n",
    "print(a2)\n",
    "\n",
    "# 변수 a3, 100아래 3의 배수\n",
    "a3 = np.arange(3, 100, 3)\n",
    "print(a3)\n",
    "\n",
    "# 1에서부터 10아래 0.5씩 증가하는 숫자\n",
    "a4 = np.arange(1.3, 10, 0.5)                  # numpy로는 실수 가능\n",
    "print(a4)\n",
    "\n",
    "# list_a = [i for i in range(1.3, 10, 0.5)]   # python에서는 실수가 안먹힘"
   ]
  },
  {
   "cell_type": "code",
   "execution_count": 25,
   "id": "79dd3d8b",
   "metadata": {},
   "outputs": [
    {
     "name": "stdout",
     "output_type": "stream",
     "text": [
      "[ 0.          0.71428571  1.42857143  2.14285714  2.85714286  3.57142857\n",
      "  4.28571429  5.          5.71428571  6.42857143  7.14285714  7.85714286\n",
      "  8.57142857  9.28571429 10.        ]\n"
     ]
    }
   ],
   "source": [
    "a4 = np.linspace(0, 10, 15)\n",
    "print(a4)"
   ]
  },
  {
   "cell_type": "code",
   "execution_count": 30,
   "id": "1a1416a2",
   "metadata": {},
   "outputs": [
    {
     "name": "stdout",
     "output_type": "stream",
     "text": [
      "[0. 0. 0. 0. 0.]\n",
      "[1. 1. 1. 1. 1.]\n",
      "[1 1 1 1 1]\n"
     ]
    },
    {
     "data": {
      "text/plain": [
       "array([1., 1., 1., 1., 1.])"
      ]
     },
     "execution_count": 30,
     "metadata": {},
     "output_type": "execute_result"
    }
   ],
   "source": [
    "a5 = np.zeros(5)\n",
    "print(a5)\n",
    "\n",
    "a6 = np.ones(5)\n",
    "a6_1 = np.ones(5, dtype = np.int64)    # 명령을 통해 정수형으로 바꿀 수 있음\n",
    "print(a6)\n",
    "print(a6_1)\n",
    "a6_1.astype(np.float64)                # 다시 실수형으로 변환"
   ]
  },
  {
   "cell_type": "code",
   "execution_count": 33,
   "id": "d06fb5fb",
   "metadata": {},
   "outputs": [
    {
     "name": "stdout",
     "output_type": "stream",
     "text": [
      "[1.  2.  3.5 4.2]\n",
      "['1' '2' 'abc' 'def']\n"
     ]
    },
    {
     "ename": "ValueError",
     "evalue": "invalid literal for int() with base 10: 'abc'",
     "output_type": "error",
     "traceback": [
      "\u001b[1;31m---------------------------------------------------------------------------\u001b[0m",
      "\u001b[1;31mValueError\u001b[0m                                Traceback (most recent call last)",
      "Cell \u001b[1;32mIn[33], line 8\u001b[0m\n\u001b[0;32m      6\u001b[0m a8 \u001b[38;5;241m=\u001b[39m np\u001b[38;5;241m.\u001b[39marray(list_b)         \u001b[38;5;66;03m# np에서는 계산의 편리를 위해 데이터타입을 통일시킴\u001b[39;00m\n\u001b[0;32m      7\u001b[0m \u001b[38;5;28mprint\u001b[39m(a8)\n\u001b[1;32m----> 8\u001b[0m \u001b[43ma8\u001b[49m\u001b[38;5;241;43m.\u001b[39;49m\u001b[43mastype\u001b[49m\u001b[43m(\u001b[49m\u001b[43mnp\u001b[49m\u001b[38;5;241;43m.\u001b[39;49m\u001b[43mint64\u001b[49m\u001b[43m)\u001b[49m\n",
      "\u001b[1;31mValueError\u001b[0m: invalid literal for int() with base 10: 'abc'"
     ]
    }
   ],
   "source": [
    "list_a = [1, 2, 3.5, 4.2]\n",
    "a7 = np.array(list_a)         # 정수형을 실수형이로,\n",
    "print(a7)\n",
    "\n",
    "list_b = [1, 2, 'abc', 'def'] # 정수형을 문자열로,\n",
    "a8 = np.array(list_b)         # np에서는 계산의 편리를 위해 데이터타입을 통일시킴\n",
    "print(a8)\n",
    "# a8.astype(np.int64)"
   ]
  },
  {
   "cell_type": "code",
   "execution_count": 40,
   "id": "0fde2078",
   "metadata": {},
   "outputs": [
    {
     "name": "stdout",
     "output_type": "stream",
     "text": [
      "float64\n",
      "1\n",
      "(4,)\n",
      "4\n",
      "8\n"
     ]
    }
   ],
   "source": [
    "print(a7.dtype)\n",
    "print(a7.ndim)         # ndim : 몇차원의 array인가?\n",
    "print(a7.shape)        # shape : 모양, (1차원배열의 크기, 2차원배열의 크기, ...)\n",
    "print(a7.size)         # size : 배열 내 모든 elements의 개수\n",
    "print(a7.itemsize)"
   ]
  },
  {
   "cell_type": "code",
   "execution_count": 45,
   "id": "c68fef58",
   "metadata": {},
   "outputs": [
    {
     "name": "stdout",
     "output_type": "stream",
     "text": [
      "[10 15 20 25 30 35 40 45 50 55 60 65 70 75 80 85 90 95]\n",
      "10 95\n",
      "[10 15 20]\n",
      "[10 20 30 40 50]\n"
     ]
    }
   ],
   "source": [
    "a10 = np.arange(10, 100, 5)\n",
    "print(a10)\n",
    "\n",
    "# 특정 인덱스\n",
    "print(a10[0], a10[-1])\n",
    "\n",
    "# 스타트, 스탑\n",
    "print(a10[0:3])\n",
    "\n",
    "# 스타트, 스탑, 스텝\n",
    "print(a10[0:10:2])"
   ]
  },
  {
   "cell_type": "code",
   "execution_count": 56,
   "id": "3c890d73",
   "metadata": {},
   "outputs": [
    {
     "name": "stdout",
     "output_type": "stream",
     "text": [
      "[10 15 20 25 30 35 40 45 50 55 60 65 70 75 80 85 90 95]\n",
      "[15 25 45]\n",
      "[15 25 35 45 55 65 75 85 95]\n",
      "[False  True False  True False  True False  True False  True False  True\n",
      " False  True False  True False  True]\n",
      "(18,)\n",
      "(18,)\n",
      "[15 25 35 45 55 65 75 85 95]\n"
     ]
    }
   ],
   "source": [
    "a10 = np.arange(10, 100, 5)\n",
    "print(a10)\n",
    "print(a10[[1, 3, 7]])        # 대괄호 두개로 원하는 인덱스의 값만 뽑아낼 수 있음\n",
    "print(a10[a10 % 10 == 5])    # 조건식으로도 추출 가능\n",
    "\n",
    "x = (a10 % 10 == 5)          # 조건식 하나만으로 결과물(배열)을 만들어냄\n",
    "print(x)\n",
    "print(x.shape)\n",
    "print(a10.shape)\n",
    "print(a10[x])"
   ]
  },
  {
   "cell_type": "code",
   "execution_count": 59,
   "id": "23ded31f",
   "metadata": {},
   "outputs": [
    {
     "name": "stdout",
     "output_type": "stream",
     "text": [
      "[0, 1, 2, 3, 4]\n",
      "[5, 6, 7, 8, 9]\n"
     ]
    },
    {
     "data": {
      "text/plain": [
       "[0, 1, 2, 3, 4, 5, 6, 7, 8, 9]"
      ]
     },
     "execution_count": 59,
     "metadata": {},
     "output_type": "execute_result"
    }
   ],
   "source": [
    "list_a = [x for x in range(0,5)]\n",
    "list_b = [x for x in range(5,10)]\n",
    "\n",
    "print(list_a)\n",
    "print(list_b)\n",
    "print(list_a + list_b)     # python에서는 배열 두개를 합쳐줌\n",
    "# print(list_a - list_b)   # 따라서, 이런건 안됨"
   ]
  },
  {
   "cell_type": "code",
   "execution_count": 63,
   "id": "ce164173",
   "metadata": {},
   "outputs": [
    {
     "name": "stdout",
     "output_type": "stream",
     "text": [
      "[0 1 2 3 4]\n",
      "[10 11 12 13 14]\n",
      "add:  [10 12 14 16 18]\n",
      "[ 0  1  2  3  4 10 11 12 13 14]\n",
      "sub:  [-10 -10 -10 -10 -10]\n",
      "mul:  [ 0 11 24 39 56]\n",
      "div:  [0.         0.09090909 0.16666667 0.23076923 0.28571429]\n"
     ]
    }
   ],
   "source": [
    "a1 = np.arange(5)\n",
    "# a1 = np.arange(7)   # 배열의 인덱스의 개수가 다르면 덧셈 등은 실행 안됨\n",
    "a2 = np.arange(10,15)\n",
    "print(a1)\n",
    "print(a2)\n",
    "print('add: ', a1 + a2)             # np에서는 배열 두개 인덱스를 더해줌\n",
    "print(np.concatenate((a1, a2)))     # python처럼 배열을 합치고 싶을 때\n",
    "print('sub: ', a1 - a2)\n",
    "print('mul: ', a1 * a2)\n",
    "print('div: ', a1 / a2)"
   ]
  }
 ],
 "metadata": {
  "kernelspec": {
   "display_name": "Python 3 (ipykernel)",
   "language": "python",
   "name": "python3"
  },
  "language_info": {
   "codemirror_mode": {
    "name": "ipython",
    "version": 3
   },
   "file_extension": ".py",
   "mimetype": "text/x-python",
   "name": "python",
   "nbconvert_exporter": "python",
   "pygments_lexer": "ipython3",
   "version": "3.10.9"
  }
 },
 "nbformat": 4,
 "nbformat_minor": 5
}
